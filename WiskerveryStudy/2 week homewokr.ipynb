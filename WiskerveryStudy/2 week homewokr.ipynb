{
 "cells": [
  {
   "cell_type": "markdown",
   "metadata": {},
   "source": [
    "# Home Work.\n",
    "* 힌트 1 : 문자열을 합치는 방법은 + 방법을 이용\n",
    "    * ex) ' ' + '*' => ' *'\n",
    "* 힌트 2 : 문자열 곱하기 숫자를 하면 문자열을 곱한 숫자만큼 추가해준다.(정확히는 숫자-1개 만큼 추가)\n",
    "    * ex)\n",
    "```\n",
    "            a = \"*\" * 4\n",
    "            print(a)\n",
    "            ->  출력값 : ****\n",
    "            \n",
    "            a = \"ab\" * 5\n",
    "            print(a) \n",
    "            -> 출력값 : ababababab\n",
    "```\n",
    "\n",
    "* 힌트 3 : 출력되는 줄의 갯수는 5로 통일 \n",
    "* for 문 안에 for 문을 써서 작성해도된다. 하지만 아직은 그게 어려운 경우, 위에 문자열 곱하기 숫자의 방법을 이용하면 for 문을 한번만 써도 충분이 할 수 있다.\n",
    "    * for 문안에 for 문을 쓰는건 다음과 같은 방법이다. \n",
    "``` \n",
    "    for i in range(6):\n",
    "        a = \"\"\n",
    "        for j in range(i):\n",
    "            a = a + \"*\"\n",
    "        print(a)\n",
    "```\n",
    "### 1 번 문제\n",
    "\n",
    "```\n",
    "*\n",
    "**\n",
    "***\n",
    "****\n",
    "*****\n",
    "```\n",
    "\n",
    "### 2 번 문제\n",
    "```\n",
    "    *\n",
    "   **\n",
    "  ***\n",
    " ****\n",
    "*****\n",
    "```\n",
    "\n",
    "### 3 번 문제\n",
    "```\n",
    "*****\n",
    "****\n",
    "***\n",
    "**\n",
    "*\n",
    "```\n",
    "\n",
    "### 4 번 문제\n",
    "```\n",
    "*****\n",
    " ****\n",
    "  ***\n",
    "   **\n",
    "    *\n",
    "```\n"
   ]
  },
  {
   "cell_type": "code",
   "execution_count": 1,
   "metadata": {},
   "outputs": [
    {
     "name": "stdout",
     "output_type": "stream",
     "text": [
      "*\n",
      "**\n",
      "***\n",
      "****\n",
      "*****\n"
     ]
    }
   ],
   "source": [
    "# Homework 1\n",
    "a = ''\n",
    "for i in range(5):\n",
    "    for j in range(i+1):\n",
    "        a = a+ '*'\n",
    "    print(a)\n",
    "    a = ''"
   ]
  },
  {
   "cell_type": "code",
   "execution_count": 2,
   "metadata": {},
   "outputs": [
    {
     "name": "stdout",
     "output_type": "stream",
     "text": [
      "*\n",
      "**\n",
      "***\n",
      "****\n",
      "*****\n"
     ]
    }
   ],
   "source": [
    "# Homework 1 다른 답\n",
    "for i in range(5):\n",
    "    print('*' * (i+1))"
   ]
  },
  {
   "cell_type": "code",
   "execution_count": 3,
   "metadata": {},
   "outputs": [
    {
     "name": "stdout",
     "output_type": "stream",
     "text": [
      "    *\n",
      "   **\n",
      "  ***\n",
      " ****\n",
      "*****\n"
     ]
    }
   ],
   "source": [
    "# Homework 2\n",
    "a = ''\n",
    "for i in range(5):\n",
    "    for j in range(5-(i+1)):\n",
    "        a = a + ' '\n",
    "    for j in range(i+1):\n",
    "        a = a + '*'\n",
    "    print(a)\n",
    "    a = ''"
   ]
  },
  {
   "cell_type": "code",
   "execution_count": 4,
   "metadata": {},
   "outputs": [
    {
     "name": "stdout",
     "output_type": "stream",
     "text": [
      "    *\n",
      "   **\n",
      "  ***\n",
      " ****\n",
      "*****\n"
     ]
    }
   ],
   "source": [
    "# Homework 2 다른 답\n",
    "for i in range(5):\n",
    "    print(' ' * (5-(i+1)) + ('*' * (i+1)))"
   ]
  },
  {
   "cell_type": "code",
   "execution_count": 5,
   "metadata": {},
   "outputs": [
    {
     "name": "stdout",
     "output_type": "stream",
     "text": [
      "*****\n",
      "****\n",
      "***\n",
      "**\n",
      "*\n"
     ]
    }
   ],
   "source": [
    "# Homework 3\n",
    "a = ''\n",
    "for i in range(5):\n",
    "    for j in range(5-i):\n",
    "        a = a + '*'\n",
    "    print(a)\n",
    "    a = ''"
   ]
  },
  {
   "cell_type": "code",
   "execution_count": 6,
   "metadata": {},
   "outputs": [
    {
     "name": "stdout",
     "output_type": "stream",
     "text": [
      "*****\n",
      "****\n",
      "***\n",
      "**\n",
      "*\n"
     ]
    }
   ],
   "source": [
    "# Homework 3 다른 답\n",
    "for i in range(5):\n",
    "    print('*' * (5-i))"
   ]
  },
  {
   "cell_type": "code",
   "execution_count": 7,
   "metadata": {},
   "outputs": [
    {
     "name": "stdout",
     "output_type": "stream",
     "text": [
      "*****\n",
      " ****\n",
      "  ***\n",
      "   **\n",
      "    *\n"
     ]
    }
   ],
   "source": [
    "# Homework 4\n",
    "a = ''\n",
    "for i in range(5):\n",
    "    for j in range(i):\n",
    "        a = a + ' '\n",
    "    for j in range(5-i):\n",
    "        a = a + '*'\n",
    "    print(a)\n",
    "    a = ''"
   ]
  },
  {
   "cell_type": "code",
   "execution_count": 8,
   "metadata": {},
   "outputs": [
    {
     "name": "stdout",
     "output_type": "stream",
     "text": [
      "*****\n",
      " ****\n",
      "  ***\n",
      "   **\n",
      "    *\n"
     ]
    }
   ],
   "source": [
    "# Homework 4\n",
    "for i in range(5):\n",
    "    print(' ' * i + '*' * (5-i))"
   ]
  }
 ],
 "metadata": {
  "kernelspec": {
   "display_name": "quant_study",
   "language": "python",
   "name": "python3"
  },
  "language_info": {
   "codemirror_mode": {
    "name": "ipython",
    "version": 3
   },
   "file_extension": ".py",
   "mimetype": "text/x-python",
   "name": "python",
   "nbconvert_exporter": "python",
   "pygments_lexer": "ipython3",
   "version": "3.11.7"
  }
 },
 "nbformat": 4,
 "nbformat_minor": 2
}
