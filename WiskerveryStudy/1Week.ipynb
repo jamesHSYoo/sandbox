{
 "cells": [
  {
   "cell_type": "markdown",
   "metadata": {},
   "source": [
    "# 1. 기본"
   ]
  },
  {
   "cell_type": "code",
   "execution_count": 1,
   "metadata": {},
   "outputs": [
    {
     "data": {
      "text/plain": [
       "'Hello'"
      ]
     },
     "execution_count": 1,
     "metadata": {},
     "output_type": "execute_result"
    }
   ],
   "source": [
    "input()"
   ]
  },
  {
   "cell_type": "code",
   "execution_count": 16,
   "metadata": {},
   "outputs": [
    {
     "name": "stdout",
     "output_type": "stream",
     "text": [
      "HS\n"
     ]
    }
   ],
   "source": [
    "a = input(\"사용자의 이름을 입력하세요.\")\n",
    "print(a)"
   ]
  },
  {
   "cell_type": "code",
   "execution_count": 2,
   "metadata": {},
   "outputs": [
    {
     "name": "stdout",
     "output_type": "stream",
     "text": [
      "Hello\n"
     ]
    }
   ],
   "source": [
    "# 문자열을 입력 하는 방법은 ' 또는 \" 로 감싸주면 된다.\n",
    "print(\"Hello\")"
   ]
  },
  {
   "cell_type": "code",
   "execution_count": 1,
   "metadata": {},
   "outputs": [
    {
     "name": "stdout",
     "output_type": "stream",
     "text": [
      "\n"
     ]
    }
   ],
   "source": [
    "# 빈 문자열 저장\n",
    "b = \"\"\n",
    "print(b)"
   ]
  },
  {
   "cell_type": "code",
   "execution_count": 4,
   "metadata": {},
   "outputs": [],
   "source": [
    "# 사용자로부터 입력 받은 값을 저장 \n",
    "a = input()"
   ]
  },
  {
   "cell_type": "code",
   "execution_count": 6,
   "metadata": {},
   "outputs": [
    {
     "name": "stdout",
     "output_type": "stream",
     "text": [
      "Hello\n"
     ]
    }
   ],
   "source": [
    "# 위에서 저장 한 값을 출력\n",
    "print(a)"
   ]
  },
  {
   "cell_type": "code",
   "execution_count": 8,
   "metadata": {},
   "outputs": [
    {
     "name": "stdout",
     "output_type": "stream",
     "text": [
      "안녕하세요 : 'Hello'\n",
      "안녕하세요 : \"Hello\"\n"
     ]
    }
   ],
   "source": [
    "# 문자열을 출력하는 여러 방법 - 중간에 ' 또는 \" 을 입력 하고 싶을 때\n",
    "print(\"안녕하세요 : 'Hello'\")\n",
    "print('안녕하세요 : \"Hello\"')"
   ]
  },
  {
   "cell_type": "code",
   "execution_count": 10,
   "metadata": {},
   "outputs": [
    {
     "name": "stdout",
     "output_type": "stream",
     "text": [
      "안녕하세요. \n",
      "반갑습니다.\n"
     ]
    }
   ],
   "source": [
    "# 문자열을 출력하는 여러 방법 - 여러줄을 입력 하고 싶을 때 \"\"\" 로 감싸준다.(''' 도 상관 없음)\n",
    "a = \"\"\"안녕하세요. \n",
    "반갑습니다.\"\"\"\n",
    "print(a)"
   ]
  },
  {
   "cell_type": "code",
   "execution_count": 11,
   "metadata": {},
   "outputs": [
    {
     "name": "stdout",
     "output_type": "stream",
     "text": [
      "안녕하세요. \n",
      " 반갑습니다.\n"
     ]
    }
   ],
   "source": [
    "# 문자열을 출력하는 여러 방법 - 여러줄을 입력 하고 싶을 때\n",
    "a = \"안녕하세요. \\n 반갑습니다.\"\n",
    "print(a)"
   ]
  },
  {
   "cell_type": "code",
   "execution_count": 9,
   "metadata": {},
   "outputs": [
    {
     "name": "stdout",
     "output_type": "stream",
     "text": [
      "안녕하세요 : Hello\n"
     ]
    }
   ],
   "source": [
    "# 문자열을 출력하는 여러 방법 : 문자열 여러개 합치기 - + 이용\n",
    "print(\"안녕하세요 \" + \": Hello\")"
   ]
  },
  {
   "cell_type": "code",
   "execution_count": 13,
   "metadata": {},
   "outputs": [
    {
     "name": "stdout",
     "output_type": "stream",
     "text": [
      "a의 값 : Hello, b의 값 : 123 \n"
     ]
    }
   ],
   "source": [
    "# 문자열을 출력하는 여러 방법 : .format() 이용\n",
    "a = 'Hello'\n",
    "b = 123\n",
    "print(\"a의 값 : {}, b의 값 : {} \".format(a, b))"
   ]
  },
  {
   "cell_type": "code",
   "execution_count": 14,
   "metadata": {},
   "outputs": [
    {
     "name": "stdout",
     "output_type": "stream",
     "text": [
      "a의 값 : Hello, b의 값 : 123 \n"
     ]
    }
   ],
   "source": [
    "# 문자열을 출력하는 여러 방법 : f\"\" 이용\n",
    "a = 'Hello'\n",
    "b = 123\n",
    "print(f\"a의 값 : {a}, b의 값 : {b} \")"
   ]
  },
  {
   "cell_type": "code",
   "execution_count": 3,
   "metadata": {},
   "outputs": [
    {
     "name": "stdout",
     "output_type": "stream",
     "text": [
      "Hello! Hello! Hello! Hello! Hello! Hello! Hello! Hello! Hello! Hello! Hello! Hello! Hello! Hello! Hello! Hello! Hello! Hello! Hello! Hello! Hello! Hello! Hello! Hello! Hello! Hello! Hello! Hello! Hello! Hello! Hello! Hello! Hello! Hello! Hello! Hello! Hello! Hello! Hello! Hello! Hello! Hello! Hello! Hello! Hello! Hello! Hello! Hello! Hello! Hello! Hello! Hello! Hello! Hello! Hello! Hello! Hello! Hello! Hello! Hello! Hello! Hello! Hello! Hello! Hello! Hello! Hello! Hello! Hello! Hello! Hello! Hello! Hello! Hello! Hello! Hello! Hello! Hello! Hello! Hello! Hello! Hello! Hello! Hello! Hello! Hello! Hello! Hello! Hello! Hello! Hello! Hello! Hello! Hello! Hello! Hello! Hello! Hello! Hello! Hello! \n"
     ]
    }
   ],
   "source": [
    "# 특이한 방식으로 반복되는 문자열 만들기\n",
    "a = \"Hello! \" * 100\n",
    "print(a)"
   ]
  },
  {
   "cell_type": "code",
   "execution_count": 16,
   "metadata": {},
   "outputs": [
    {
     "name": "stdout",
     "output_type": "stream",
     "text": [
      "1003\n"
     ]
    }
   ],
   "source": [
    "# 연산자 - 더하기\n",
    "a = 1000\n",
    "b = 3\n",
    "c = a + b\n",
    "print(c)"
   ]
  },
  {
   "cell_type": "code",
   "execution_count": 18,
   "metadata": {},
   "outputs": [
    {
     "name": "stdout",
     "output_type": "stream",
     "text": [
      "997\n"
     ]
    }
   ],
   "source": [
    "# 연산자 - 빼기\n",
    "a = 1000\n",
    "b = 3\n",
    "d = a - b\n",
    "print(d)"
   ]
  },
  {
   "cell_type": "code",
   "execution_count": 20,
   "metadata": {},
   "outputs": [
    {
     "name": "stdout",
     "output_type": "stream",
     "text": [
      "3000\n"
     ]
    }
   ],
   "source": [
    "# 연산자 - 곱하기\n",
    "a = 1000\n",
    "b = 3\n",
    "e = a * b\n",
    "print(e)"
   ]
  },
  {
   "cell_type": "code",
   "execution_count": 22,
   "metadata": {},
   "outputs": [
    {
     "name": "stdout",
     "output_type": "stream",
     "text": [
      "333.3333333333333\n"
     ]
    }
   ],
   "source": [
    "# 연산자 - 나누기\n",
    "a = 1000\n",
    "b = 3\n",
    "f = a / b\n",
    "print(f)\n",
    "# 만약 0으로 나누는 경우는 어떻게 될까?"
   ]
  },
  {
   "cell_type": "code",
   "execution_count": 23,
   "metadata": {},
   "outputs": [
    {
     "name": "stdout",
     "output_type": "stream",
     "text": [
      "몫 : 333, 나머지 : 1\n"
     ]
    }
   ],
   "source": [
    "# 연산자 - 몫과 나머지\n",
    "a = 1000\n",
    "b = 3\n",
    "g = a // b\n",
    "h = a % b\n",
    "print(\"몫 : {}, 나머지 : {}\".format(g, h))"
   ]
  },
  {
   "cell_type": "code",
   "execution_count": 8,
   "metadata": {},
   "outputs": [],
   "source": [
    "# 여러 개의 데이터를 하나의 변수에 묶어서 표현 하는 방법 : 리스트(List) 자료형\n",
    "\n",
    "a_list = [] #빈 배열\n",
    "b_list = [1, 4, 6, 8, 9]\n",
    "  # 인덱스  0  1  2  3  4\n",
    "  \n",
    "str_list = ['a', 'b', 'c', 'd', 'e', 'f', 'g', 'h', 'i', 'j', 'k']"
   ]
  },
  {
   "cell_type": "code",
   "execution_count": 6,
   "metadata": {},
   "outputs": [
    {
     "name": "stdout",
     "output_type": "stream",
     "text": [
      "1\n"
     ]
    }
   ],
   "source": [
    "# b_list의 0번째 값 출력\n",
    "print(b_list[0])"
   ]
  },
  {
   "cell_type": "code",
   "execution_count": 7,
   "metadata": {},
   "outputs": [
    {
     "name": "stdout",
     "output_type": "stream",
     "text": [
      "9\n"
     ]
    }
   ],
   "source": [
    "# b_list의 4번째 값 출력\n",
    "print(b_list[4])"
   ]
  },
  {
   "cell_type": "code",
   "execution_count": 10,
   "metadata": {},
   "outputs": [
    {
     "name": "stdout",
     "output_type": "stream",
     "text": [
      "['b', 'c', 'd', 'e', 'f', 'g', 'h', 'i', 'j', 'k']\n"
     ]
    }
   ],
   "source": [
    "# 리스트 잘라보기\n",
    "# str_list 의 2번째 값부터 마지막값 까지 자르기\n",
    "str_list_1 = str_list[1:]\n",
    "print(str_list_1)"
   ]
  },
  {
   "cell_type": "code",
   "execution_count": 12,
   "metadata": {},
   "outputs": [
    {
     "name": "stdout",
     "output_type": "stream",
     "text": [
      "['a', 'b', 'c', 'd', 'e', 'f', 'g']\n"
     ]
    }
   ],
   "source": [
    "# 리스트 잘라보기\n",
    "# str_list 의 첫번째 값부터 7번째 값 까지 자르기\n",
    "str_list_2 = str_list[:7]\n",
    "print(str_list_2)"
   ]
  },
  {
   "cell_type": "code",
   "execution_count": 13,
   "metadata": {},
   "outputs": [
    {
     "name": "stdout",
     "output_type": "stream",
     "text": [
      "['b', 'c', 'd', 'e', 'f', 'g']\n"
     ]
    }
   ],
   "source": [
    "# 리스트 잘라보기\n",
    "# str_list 의 2 번째 값부터 7 번째 값 까지 자르기\n",
    "str_list_3 = str_list[1:7]\n",
    "print(str_list_3)"
   ]
  },
  {
   "cell_type": "code",
   "execution_count": 6,
   "metadata": {},
   "outputs": [
    {
     "name": "stdout",
     "output_type": "stream",
     "text": [
      "['c', [1, 2], 3]\n"
     ]
    }
   ],
   "source": [
    "# 배열에 맨 뒤에 값 추가 하기 \n",
    "c_list = []  # 빈 배열 선언\n",
    "c_list.append('c')\n",
    "c_list.append([1, 2])\n",
    "c_list.append(3)\n",
    "print(c_list)"
   ]
  },
  {
   "cell_type": "code",
   "execution_count": 7,
   "metadata": {},
   "outputs": [
    {
     "name": "stdout",
     "output_type": "stream",
     "text": [
      "['a', 'c', [1, 2], 3]\n"
     ]
    }
   ],
   "source": [
    "# 맨 앞에 값 추가\n",
    "c_list.insert(0, 'a')\n",
    "print(c_list)"
   ]
  },
  {
   "cell_type": "code",
   "execution_count": 8,
   "metadata": {},
   "outputs": [
    {
     "name": "stdout",
     "output_type": "stream",
     "text": [
      "['a', [1, 2], 3]\n"
     ]
    }
   ],
   "source": [
    "# 리스트의 특정 값 제거\n",
    "c_list.remove('c')\n",
    "print(c_list)"
   ]
  },
  {
   "cell_type": "code",
   "execution_count": 9,
   "metadata": {},
   "outputs": [
    {
     "name": "stdout",
     "output_type": "stream",
     "text": [
      "['a', [1, 2]]\n"
     ]
    }
   ],
   "source": [
    "# 리스트의 맨 끝값 제거\n",
    "c_list.pop()\n",
    "print(c_list)"
   ]
  },
  {
   "cell_type": "code",
   "execution_count": 19,
   "metadata": {},
   "outputs": [
    {
     "data": {
      "text/plain": [
       "3"
      ]
     },
     "execution_count": 19,
     "metadata": {},
     "output_type": "execute_result"
    }
   ],
   "source": [
    "# 배열의 길이 구하는 방법\n",
    "len(c_list)"
   ]
  },
  {
   "cell_type": "code",
   "execution_count": 16,
   "metadata": {},
   "outputs": [
    {
     "name": "stdout",
     "output_type": "stream",
     "text": [
      "['c', [1, 2], 5]\n"
     ]
    }
   ],
   "source": [
    "# 배열의 3번째 값 변경\n",
    "c_list[2] = 5\n",
    "print(c_list)"
   ]
  },
  {
   "cell_type": "code",
   "execution_count": 17,
   "metadata": {},
   "outputs": [],
   "source": [
    "# 튜플\n",
    "a_tuple = (1, 2, 3, 4, 5)"
   ]
  },
  {
   "cell_type": "code",
   "execution_count": 18,
   "metadata": {},
   "outputs": [
    {
     "ename": "TypeError",
     "evalue": "'tuple' object does not support item assignment",
     "output_type": "error",
     "traceback": [
      "\u001b[0;31m---------------------------------------------------------------------------\u001b[0m",
      "\u001b[0;31mTypeError\u001b[0m                                 Traceback (most recent call last)",
      "Cell \u001b[0;32mIn[18], line 1\u001b[0m\n\u001b[0;32m----> 1\u001b[0m \u001b[43ma_tuple\u001b[49m\u001b[43m[\u001b[49m\u001b[38;5;241;43m2\u001b[39;49m\u001b[43m]\u001b[49m \u001b[38;5;241m=\u001b[39m \u001b[38;5;241m1\u001b[39m\n",
      "\u001b[0;31mTypeError\u001b[0m: 'tuple' object does not support item assignment"
     ]
    }
   ],
   "source": [
    "# 리스트와 비슷해보이지만 값을 변경 할 수 없다. \n",
    "a_tuple[2] = 1"
   ]
  },
  {
   "cell_type": "code",
   "execution_count": 20,
   "metadata": {},
   "outputs": [
    {
     "data": {
      "text/plain": [
       "5"
      ]
     },
     "execution_count": 20,
     "metadata": {},
     "output_type": "execute_result"
    }
   ],
   "source": [
    "len(a_tuple)"
   ]
  },
  {
   "cell_type": "code",
   "execution_count": 21,
   "metadata": {},
   "outputs": [],
   "source": [
    "# 딕셔너리 : key-value 형태로 데이터를 저장하는 방법\n",
    "a_dic = {'a':1, 'b':2}"
   ]
  },
  {
   "cell_type": "code",
   "execution_count": 22,
   "metadata": {},
   "outputs": [
    {
     "data": {
      "text/plain": [
       "1"
      ]
     },
     "execution_count": 22,
     "metadata": {},
     "output_type": "execute_result"
    }
   ],
   "source": [
    "# a_dic 에서 'a'키의 값(value)를 가지고 오는 방법\n",
    "a_dic['a']"
   ]
  },
  {
   "cell_type": "code",
   "execution_count": 23,
   "metadata": {},
   "outputs": [
    {
     "data": {
      "text/plain": [
       "2"
      ]
     },
     "execution_count": 23,
     "metadata": {},
     "output_type": "execute_result"
    }
   ],
   "source": [
    "# 딕셔너리의 길이 구하는 방법\n",
    "len(a_dic)"
   ]
  },
  {
   "cell_type": "code",
   "execution_count": 12,
   "metadata": {},
   "outputs": [],
   "source": [
    "# 문제 1) 사용자로부터 이름을 입력 받아 다름과 같이 출력하시오.\n",
    "# Hello, {입력 받은 이름}"
   ]
  },
  {
   "cell_type": "code",
   "execution_count": 10,
   "metadata": {},
   "outputs": [],
   "source": [
    "# 문제 2) 사용자로 부터 2개의 숫자를 입력 받아 더한 값을 출력시오."
   ]
  },
  {
   "cell_type": "code",
   "execution_count": 11,
   "metadata": {},
   "outputs": [],
   "source": [
    "# 문제 3) 사용자로부터 일수(날짜 수)를 입력 받아서 그 일수 까지 남은 몇 시간, 몇분, 몇 초가 남았는지 출력하시오."
   ]
  },
  {
   "cell_type": "code",
   "execution_count": 13,
   "metadata": {},
   "outputs": [],
   "source": [
    "# 문제 4) 두 개의 위스키 이름이 저장되어 있는 리스트를 생성하고, 사용자에게 좋아하는 위스키 이름을 입력 받아 리스트에 출력하고 리스트 전체를 출력하시오."
   ]
  }
 ],
 "metadata": {
  "kernelspec": {
   "display_name": "quant_study",
   "language": "python",
   "name": "python3"
  },
  "language_info": {
   "codemirror_mode": {
    "name": "ipython",
    "version": 3
   },
   "file_extension": ".py",
   "mimetype": "text/x-python",
   "name": "python",
   "nbconvert_exporter": "python",
   "pygments_lexer": "ipython3",
   "version": "3.11.7"
  }
 },
 "nbformat": 4,
 "nbformat_minor": 2
}
