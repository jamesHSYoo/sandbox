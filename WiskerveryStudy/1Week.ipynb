{
 "cells": [
  {
   "cell_type": "markdown",
   "metadata": {},
   "source": [
    "# 1. 입출력 "
   ]
  },
  {
   "cell_type": "code",
   "execution_count": 1,
   "metadata": {},
   "outputs": [
    {
     "data": {
      "text/plain": [
       "'Hello'"
      ]
     },
     "execution_count": 1,
     "metadata": {},
     "output_type": "execute_result"
    }
   ],
   "source": [
    "input()"
   ]
  },
  {
   "cell_type": "code",
   "execution_count": 2,
   "metadata": {},
   "outputs": [
    {
     "name": "stdout",
     "output_type": "stream",
     "text": [
      "Hello\n"
     ]
    }
   ],
   "source": [
    "# 문자열을 입력 하는 방법은 ' 또는 \" 로 감싸주면 된다.\n",
    "print(\"Hello\")"
   ]
  },
  {
   "cell_type": "code",
   "execution_count": 4,
   "metadata": {},
   "outputs": [],
   "source": [
    "# 사용자로부터 입력 받은 값을 저장 \n",
    "a = input()"
   ]
  },
  {
   "cell_type": "code",
   "execution_count": 6,
   "metadata": {},
   "outputs": [
    {
     "name": "stdout",
     "output_type": "stream",
     "text": [
      "Hello\n"
     ]
    }
   ],
   "source": [
    "# 위에서 저장 한 값을 출력\n",
    "print(a)"
   ]
  },
  {
   "cell_type": "code",
   "execution_count": 8,
   "metadata": {},
   "outputs": [
    {
     "name": "stdout",
     "output_type": "stream",
     "text": [
      "안녕하세요 : 'Hello'\n",
      "안녕하세요 : \"Hello\"\n"
     ]
    }
   ],
   "source": [
    "# 문자열을 출력하는 여러 방법 - 중간에 ' 또는 \" 을 입력 하고 싶을 때\n",
    "print(\"안녕하세요 : 'Hello'\")\n",
    "print('안녕하세요 : \"Hello\"')"
   ]
  },
  {
   "cell_type": "code",
   "execution_count": 10,
   "metadata": {},
   "outputs": [
    {
     "name": "stdout",
     "output_type": "stream",
     "text": [
      "안녕하세요. \n",
      "반갑습니다.\n"
     ]
    }
   ],
   "source": [
    "# 문자열을 출력하는 여러 방법 - 여러줄을 입력 하고 싶을 때 \"\"\" 로 감싸준다.(''' 도 상관 없음)\n",
    "a = \"\"\"안녕하세요. \n",
    "반갑습니다.\"\"\"\n",
    "print(a)"
   ]
  },
  {
   "cell_type": "code",
   "execution_count": 11,
   "metadata": {},
   "outputs": [
    {
     "name": "stdout",
     "output_type": "stream",
     "text": [
      "안녕하세요. \n",
      " 반갑습니다.\n"
     ]
    }
   ],
   "source": [
    "# 문자열을 출력하는 여러 방법 - 여러줄을 입력 하고 싶을 때\n",
    "a = \"안녕하세요. \\n 반갑습니다.\"\n",
    "print(a)"
   ]
  },
  {
   "cell_type": "code",
   "execution_count": 9,
   "metadata": {},
   "outputs": [
    {
     "name": "stdout",
     "output_type": "stream",
     "text": [
      "안녕하세요 : Hello\n"
     ]
    }
   ],
   "source": [
    "# 문자열을 출력하는 여러 방법 : 문자열 여러개 합치기 - + 이용\n",
    "print(\"안녕하세요 \" + \": Hello\")"
   ]
  },
  {
   "cell_type": "code",
   "execution_count": 13,
   "metadata": {},
   "outputs": [
    {
     "name": "stdout",
     "output_type": "stream",
     "text": [
      "a의 값 : Hello, b의 값 : 123 \n"
     ]
    }
   ],
   "source": [
    "# 문자열을 출력하는 여러 방법 : .format() 이용\n",
    "a = 'Hello'\n",
    "b = 123\n",
    "print(\"a의 값 : {}, b의 값 : {} \".format(a, b))"
   ]
  },
  {
   "cell_type": "code",
   "execution_count": 14,
   "metadata": {},
   "outputs": [
    {
     "name": "stdout",
     "output_type": "stream",
     "text": [
      "a의 값 : Hello, b의 값 : 123 \n"
     ]
    }
   ],
   "source": [
    "# 문자열을 출력하는 여러 방법 : f\"\" 이용\n",
    "a = 'Hello'\n",
    "b = 123\n",
    "print(f\"a의 값 : {a}, b의 값 : {b} \")"
   ]
  },
  {
   "cell_type": "code",
   "execution_count": 16,
   "metadata": {},
   "outputs": [
    {
     "name": "stdout",
     "output_type": "stream",
     "text": [
      "1003\n"
     ]
    }
   ],
   "source": [
    "# 연산자 - 더하기\n",
    "a = 1000\n",
    "b = 3\n",
    "c = a + b\n",
    "print(c)"
   ]
  },
  {
   "cell_type": "code",
   "execution_count": 18,
   "metadata": {},
   "outputs": [
    {
     "name": "stdout",
     "output_type": "stream",
     "text": [
      "997\n"
     ]
    }
   ],
   "source": [
    "# 연산자 - 빼기\n",
    "a = 1000\n",
    "b = 3\n",
    "d = a - b\n",
    "print(d)"
   ]
  },
  {
   "cell_type": "code",
   "execution_count": 20,
   "metadata": {},
   "outputs": [
    {
     "name": "stdout",
     "output_type": "stream",
     "text": [
      "3000\n"
     ]
    }
   ],
   "source": [
    "# 연산자 - 곱하기\n",
    "a = 1000\n",
    "b = 3\n",
    "e = a * b\n",
    "print(e)"
   ]
  },
  {
   "cell_type": "code",
   "execution_count": 22,
   "metadata": {},
   "outputs": [
    {
     "name": "stdout",
     "output_type": "stream",
     "text": [
      "333.3333333333333\n"
     ]
    }
   ],
   "source": [
    "# 연산자 - 나누기\n",
    "a = 1000\n",
    "b = 3\n",
    "f = a / b\n",
    "print(f)\n",
    "# 만약 0으로 나누는 경우는 어떻게 될까?"
   ]
  },
  {
   "cell_type": "code",
   "execution_count": null,
   "metadata": {},
   "outputs": [],
   "source": [
    "# 연산자 - 몫과 나머지\n",
    "a = 1000\n",
    "b = 3\n",
    "g = a // b\n",
    "h = a % b\n",
    "print(\"몫 : {}, 나머지 : {}\".format(g))"
   ]
  }
 ],
 "metadata": {
  "kernelspec": {
   "display_name": "quant_study",
   "language": "python",
   "name": "python3"
  },
  "language_info": {
   "codemirror_mode": {
    "name": "ipython",
    "version": 3
   },
   "file_extension": ".py",
   "mimetype": "text/x-python",
   "name": "python",
   "nbconvert_exporter": "python",
   "pygments_lexer": "ipython3",
   "version": "3.11.7"
  }
 },
 "nbformat": 4,
 "nbformat_minor": 2
}
