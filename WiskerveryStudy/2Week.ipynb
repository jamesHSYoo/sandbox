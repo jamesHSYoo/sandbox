{
 "cells": [
  {
   "cell_type": "code",
   "execution_count": 1,
   "metadata": {},
   "outputs": [
    {
     "name": "stdout",
     "output_type": "stream",
     "text": [
      "True\n",
      "False\n"
     ]
    }
   ],
   "source": [
    "# 논리 자료형 : 참 / 거짓\n",
    "print(True)\n",
    "print(False)"
   ]
  },
  {
   "cell_type": "code",
   "execution_count": 2,
   "metadata": {},
   "outputs": [
    {
     "name": "stdout",
     "output_type": "stream",
     "text": [
      "True\n",
      "False\n",
      "True\n",
      "False\n"
     ]
    }
   ],
   "source": [
    "# 논리 연산 - 중/고등학교에서 배운 집합의 명제를 생각 하면된다.\n",
    "print(False or True)\n",
    "print(False and True)\n",
    "print(True or False)\n",
    "print(True and False)"
   ]
  },
  {
   "cell_type": "code",
   "execution_count": 3,
   "metadata": {},
   "outputs": [
    {
     "name": "stdout",
     "output_type": "stream",
     "text": [
      "0\n",
      "1\n",
      "1\n",
      "0\n",
      "1\n"
     ]
    }
   ],
   "source": [
    "# 논리 연산에서 0 = False, 1 = True 이다. \n",
    "print(0 or 0)\n",
    "print(1 or 0)\n",
    "print(1 or 1)\n",
    "print(1 and 0)\n",
    "print(1 and 1)"
   ]
  },
  {
   "cell_type": "code",
   "execution_count": 4,
   "metadata": {},
   "outputs": [
    {
     "name": "stdout",
     "output_type": "stream",
     "text": [
      "True\n",
      "True\n",
      "False\n",
      "False\n"
     ]
    }
   ],
   "source": [
    "# 비교 연산 : == 같은가?\n",
    "print(1 == 1)\n",
    "print('he' == 'he')\n",
    "print(1 == 2)\n",
    "print('he' == 'she') "
   ]
  },
  {
   "cell_type": "code",
   "execution_count": 5,
   "metadata": {},
   "outputs": [
    {
     "name": "stdout",
     "output_type": "stream",
     "text": [
      "False\n",
      "False\n",
      "True\n",
      "True\n"
     ]
    }
   ],
   "source": [
    "# 비교 연산 : != 다른가?\n",
    "print(1 != 1)\n",
    "print('he' != 'he')\n",
    "print(1 != 2)\n",
    "print('he' != 'she') "
   ]
  },
  {
   "cell_type": "code",
   "execution_count": 6,
   "metadata": {},
   "outputs": [
    {
     "name": "stdout",
     "output_type": "stream",
     "text": [
      "False\n",
      "True\n",
      "False\n",
      "False\n"
     ]
    }
   ],
   "source": [
    "# 비교 연산 : <, <=, >=, >\n",
    "print(1 < 1)\n",
    "print(1 <= 2)\n",
    "print(2 >= 3)\n",
    "print(2 > 3) "
   ]
  },
  {
   "cell_type": "code",
   "execution_count": 7,
   "metadata": {},
   "outputs": [
    {
     "name": "stdout",
     "output_type": "stream",
     "text": [
      "True\n",
      "True\n",
      "False\n",
      "True\n"
     ]
    }
   ],
   "source": [
    "# 리스트에 특정 값이 포함되어있는지 확인 하기\n",
    "d_list = ['a', 1, 2, 3, [2,3]]\n",
    "print([2, 3] in d_list)\n",
    "print(2 in d_list)\n",
    "print(5 in d_list)\n",
    "print('a' in d_list)"
   ]
  },
  {
   "cell_type": "code",
   "execution_count": 4,
   "metadata": {},
   "outputs": [
    {
     "name": "stdout",
     "output_type": "stream",
     "text": [
      "True\n",
      "True\n",
      "False\n"
     ]
    }
   ],
   "source": [
    "# 문자열에 특정 문자열이 포함되어 있는지 확인 하는 방법\n",
    "a_str = 'Balvenie Doublewood 12Y'\n",
    "print('Balvenie' in a_str)\n",
    "print('12' in a_str)\n",
    "print('13' in a_str)"
   ]
  },
  {
   "cell_type": "markdown",
   "metadata": {},
   "source": [
    "# 2. 조건문, 반복문"
   ]
  },
  {
   "cell_type": "markdown",
   "metadata": {},
   "source": [
    "## 조건문 \n",
    "### 기본적인 형태\n",
    "```\n",
    "if {조건문1} : \n",
    "    {조건문1을 만족할 때 수행되는 명령문}\n",
    "elif {조건문2} :\n",
    "    {조건문1은 만족 하지 못했으나 조건문2를 만족할 때 수행되는 명령문}\n",
    "...\n",
    "elif {조건문 n} :\n",
    "    {조건문1 부터 n-1 까지는 만족 하지 못했으나 조건문n를 만족할 때 수행되는 명령문}\n",
    "else : \n",
    "    {조건문 1 ~ n 모두 만족하지 못했을 때 실행되는 명령문}\n",
    "```"
   ]
  },
  {
   "cell_type": "code",
   "execution_count": 9,
   "metadata": {},
   "outputs": [
    {
     "name": "stdout",
     "output_type": "stream",
     "text": [
      "3 이 1 보다 가 큽니다.\n"
     ]
    }
   ],
   "source": [
    "a = 1\n",
    "b = 3\n",
    "if a >= b : \n",
    "    print(f\"{a}이 {b} 보다 크거나 같습니다.\")\n",
    "else : \n",
    "    print(f\"{b} 이 {a} 보다 큽니다.\")\n"
   ]
  },
  {
   "cell_type": "code",
   "execution_count": 10,
   "metadata": {},
   "outputs": [
    {
     "name": "stdout",
     "output_type": "stream",
     "text": [
      "위스키 리스트에 메이커스 마크가 있습니다.\n",
      "위스키 리스트에 메이커스 마크가 있습니다. 1\n"
     ]
    }
   ],
   "source": [
    "a_wisky = input()\n",
    "b_list = ['탈리스커', '발베니', '라프로익', '와일드 터키', '글렌 피딕', '메이커스 마크']\n",
    "if a_wisky in b_list :\n",
    "    print(f\"위스키 리스트에 {a_wisky}가 있습니다.\")\n",
    "    print(f\"위스키 리스트에 {a_wisky}가 있습니다. 1\")\n",
    "else : \n",
    "    print(f\"위스키 리스트에 {a_wisky}가 없습니다.\")\n"
   ]
  },
  {
   "cell_type": "code",
   "execution_count": 12,
   "metadata": {},
   "outputs": [
    {
     "name": "stdout",
     "output_type": "stream",
     "text": [
      "모두 만족하지 못합니다.\n"
     ]
    }
   ],
   "source": [
    "a = 1\n",
    "b = 3\n",
    "c = 2\n",
    "d = 5\n",
    "if a == b and c == d: \n",
    "    print(\"두 조건 모두 만족\") \n",
    "elif a == b or c == d: \n",
    "    print(\"두 조건 중 하나라도 만족하면\")\n",
    "else :\n",
    "    print('모두 만족하지 못합니다.') \n"
   ]
  },
  {
   "cell_type": "markdown",
   "metadata": {},
   "source": [
    "## 반복문 - For \n",
    "### 기본적인 형태\n",
    "* 0 부터 n-1 까지 총 n 번 반복\n",
    "```\n",
    "for i in range(n):\n",
    "    {명령문}\n",
    "```"
   ]
  },
  {
   "cell_type": "code",
   "execution_count": 23,
   "metadata": {},
   "outputs": [
    {
     "name": "stdout",
     "output_type": "stream",
     "text": [
      "0\n",
      "1\n",
      "2\n",
      "3\n",
      "4\n"
     ]
    }
   ],
   "source": [
    "# 0부터 9(= 10 - 1)까지 출력 하는 반복문\n",
    "for idx in range(5):\n",
    "    print(idx)"
   ]
  },
  {
   "cell_type": "code",
   "execution_count": 15,
   "metadata": {},
   "outputs": [
    {
     "name": "stdout",
     "output_type": "stream",
     "text": [
      "5\n",
      "탈리스커\n",
      "발베니\n",
      "라프로익\n",
      "와일드 터키\n",
      "글렌 피딕\n"
     ]
    }
   ],
   "source": [
    "# for 문을 활용한 리스트 모든 값 출력(인덱스 값을 활용)\n",
    "whisky = ['탈리스커', '발베니', '라프로익', '와일드 터키', '글렌 피딕']\n",
    "    #   i   0          1        2        3           4\n",
    "lth = len(whisky)\n",
    "print(lth)\n",
    "\n",
    "for i in range(lth):  # lth = 5\n",
    "    print(whisky[i])\n",
    "\n",
    "# 위 for문과 같은 의미\n",
    "print(whisky[0]) \n",
    "print(whisky[1])\n",
    "print(whisky[2])   \n",
    "print(whisky[3])\n",
    "print(whisky[4])\n"
   ]
  },
  {
   "cell_type": "code",
   "execution_count": 14,
   "metadata": {},
   "outputs": [
    {
     "name": "stdout",
     "output_type": "stream",
     "text": [
      "탈리스커\n",
      "발베니\n",
      "라프로익\n",
      "와일드 터키\n",
      "글렌 피딕\n"
     ]
    }
   ],
   "source": [
    "# for 문을 활용한 리스트 모든 값 출력(인덱스 값을 활용 X)\n",
    "whisky = ['탈리스커', '발베니', '라프로익', '와일드 터키', '글렌 피딕']\n",
    "for element in whisky:\n",
    "    print(element)\n",
    "# 리스트의 순서대로 출력해줌"
   ]
  },
  {
   "cell_type": "code",
   "execution_count": 19,
   "metadata": {},
   "outputs": [
    {
     "name": "stdout",
     "output_type": "stream",
     "text": [
      "6\n",
      "탈리스커\n",
      "발베니\n",
      "라프로익\n",
      "와일드 터키\n",
      "글렌 피딕\n"
     ]
    },
    {
     "ename": "IndexError",
     "evalue": "list index out of range",
     "output_type": "error",
     "traceback": [
      "\u001b[0;31m---------------------------------------------------------------------------\u001b[0m",
      "\u001b[0;31mIndexError\u001b[0m                                Traceback (most recent call last)",
      "Cell \u001b[0;32mIn[19], line 7\u001b[0m\n\u001b[1;32m      4\u001b[0m \u001b[38;5;28mprint\u001b[39m(lth)\n\u001b[1;32m      6\u001b[0m \u001b[38;5;28;01mfor\u001b[39;00m i \u001b[38;5;129;01min\u001b[39;00m \u001b[38;5;28mrange\u001b[39m(lth):\n\u001b[0;32m----> 7\u001b[0m     \u001b[38;5;28mprint\u001b[39m(\u001b[43mwhisky\u001b[49m\u001b[43m[\u001b[49m\u001b[43mi\u001b[49m\u001b[43m]\u001b[49m)\n",
      "\u001b[0;31mIndexError\u001b[0m: list index out of range"
     ]
    }
   ],
   "source": [
    "# for 문을 활용한 리스트 모든 값 출력(인덱스 값을 활용)\n",
    "whisky = ['탈리스커', '발베니', '라프로익', '와일드 터키', '글렌 피딕']\n",
    "lth = len(whisky) + 1 # 5 + 1\n",
    "print(lth)\n",
    "\n",
    "for i in range(lth):\n",
    "    print(whisky[i])"
   ]
  },
  {
   "cell_type": "code",
   "execution_count": 21,
   "metadata": {},
   "outputs": [
    {
     "name": "stdout",
     "output_type": "stream",
     "text": [
      "1 번째 위스키 : 탈리스커\n",
      "2 번째 위스키 : 발베니\n",
      "3 번째 위스키 : 라프로익\n",
      "4 번째 위스키 : 와일드 터키\n",
      "5 번째 위스키 : 글렌 피딕\n"
     ]
    }
   ],
   "source": [
    "# for 문을 활용한 리스트 모든 값 출력(인덱스 값을 활용)\n",
    "whisky = ['탈리스커', '발베니', '라프로익', '와일드 터키', '글렌 피딕']\n",
    "\n",
    "for i in range(len(whisky)):\n",
    "    print(f\"{i + 1} 번째 위스키 : {whisky[i]}\")"
   ]
  },
  {
   "cell_type": "code",
   "execution_count": 22,
   "metadata": {},
   "outputs": [
    {
     "name": "stdout",
     "output_type": "stream",
     "text": [
      "1 번째 위스키 : 탈리스커\n",
      "2 번째 위스키 : 발베니\n",
      "3 번째 위스키 : 라프로익\n",
      "4 번째 위스키 : 와일드 터키\n",
      "5 번째 위스키 : 글렌 피딕\n"
     ]
    }
   ],
   "source": [
    "whisky = ['탈리스커', '발베니', '라프로익', '와일드 터키', '글렌 피딕']\n",
    "\n",
    "for i, element in enumerate(whisky):\n",
    "    print(f\"{i + 1} 번째 위스키 : {element}\")"
   ]
  },
  {
   "cell_type": "markdown",
   "metadata": {},
   "source": [
    "*\n",
    "**\n",
    "***\n",
    "****\n",
    "*****\n",
    "******"
   ]
  },
  {
   "cell_type": "markdown",
   "metadata": {},
   "source": [
    "      *\n",
    "     **\n",
    "    ***\n",
    "   ****\n",
    "  *****\n",
    " ******\n",
    "*******"
   ]
  }
 ],
 "metadata": {
  "kernelspec": {
   "display_name": "quant_study",
   "language": "python",
   "name": "python3"
  },
  "language_info": {
   "codemirror_mode": {
    "name": "ipython",
    "version": 3
   },
   "file_extension": ".py",
   "mimetype": "text/x-python",
   "name": "python",
   "nbconvert_exporter": "python",
   "pygments_lexer": "ipython3",
   "version": "3.11.7"
  }
 },
 "nbformat": 4,
 "nbformat_minor": 2
}
