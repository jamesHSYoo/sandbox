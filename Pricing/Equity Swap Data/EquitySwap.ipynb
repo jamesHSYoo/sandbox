{
 "cells": [
  {
   "cell_type": "code",
   "execution_count": 47,
   "metadata": {},
   "outputs": [],
   "source": [
    "## 발행정보 - Equity(Forward)\n",
    "today_price = 316.38\n",
    "init_price = 322.21\n",
    "\n",
    "dividend = 0.0237\n",
    "volatility = 0.16675\n",
    "\n",
    "mat_dt = '2023-6-15'\n",
    "\n",
    "## 발행정보 - FRN\n",
    "\n",
    "spread = -0.002\n",
    "\n",
    "reset_dates = ['2022-06-20','2022-09-20','2022-12-20','2023-03-20']\n",
    "begin_dates = ['2022-06-21','2022-09-21','2022-12-21','2023-03-21']\n",
    "end_dates = ['2022-09-21','2022-12-21','2023-03-21','2023-06-21']\n",
    "settle_dates = ['2022-09-21','2022-12-21','2023-03-21','2023-06-21']\n",
    "\n",
    "fixing_price_date = ['2022-06-20']\n",
    "fixing_price_value = [0.0199]\n",
    "\n",
    "\n",
    "## Market Data\n",
    "curve_tenors = [0.00278,0.25, 0.5, 0.75, 1, 1.25, 1.5, 1.75, 2]\n",
    "curve_rates = [0.0176,0.019801,0.023865,0.027499,0.0308,0.032463,0.034124,0.035077, 0.036031]\n",
    "\n",
    "val_dt = '2022-06-21'\n",
    "\n",
    "\n",
    "n_simul = 50000"
   ]
  },
  {
   "cell_type": "code",
   "execution_count": 48,
   "metadata": {},
   "outputs": [],
   "source": [
    "import datetime\n",
    "import math\n",
    "# 사용 할 함수 정의\n",
    "\n",
    "# 보간법을 이용하여 지정된  tenor 사이의 teminate_time 의 이자율 산출\n",
    "def get_ir_interpolation(target_tenors, target_rates, selected_tenor):\n",
    "    try:\n",
    "        if len(target_tenors) == 1:\n",
    "            return target_rates[0]\n",
    "        if target_tenors[-1] <= selected_tenor:\n",
    "            return target_rates[-1]\n",
    "\n",
    "        for i, tenor in enumerate(target_tenors):\n",
    "            if tenor == selected_tenor:\n",
    "                return target_rates[i]\n",
    "            else:\n",
    "                if tenor > selected_tenor:\n",
    "                    return target_rates[i-1] + (selected_tenor - target_tenors[i-1]) \\\n",
    "                        / (target_tenors[i] - target_tenors[i-1]) * (target_rates[i] - target_rates[i-1])\n",
    "    except:\n",
    "        print(f\"exception occur at tenor {selected_tenor}\")\n",
    "        \n",
    "# 두 날짜 차이의 연환산값 산출\n",
    "def get_year_diff_two_dates(start_date, end_date):\n",
    "    start = datetime.datetime.strptime(start_date, \"%Y-%m-%d\")\n",
    "    end = datetime.datetime.strptime(end_date, \"%Y-%m-%d\")\n",
    "    return ((end - start).days) / 365\n",
    "\n",
    "# 단순히 두 날짜의 차이 산출\n",
    "def get_diff_two_dates(start_date, end_date):\n",
    "    start = datetime.datetime.strptime(start_date, \"%Y-%m-%d\")\n",
    "    end = datetime.datetime.strptime(end_date, \"%Y-%m-%d\")\n",
    "    return ((end - start).days)\n",
    "\n",
    "\n",
    "def pricing_FRN(val_date, tenors, rates,spread, reset_dates, begin_dates, end_dates, settle_dates, fixing_price_date, fixing_price_value):\n",
    "    \n",
    "    discount_tenors = []\n",
    "    for date in settle_dates:\n",
    "        diff = get_year_diff_two_dates(val_date, date)\n",
    "        if diff > 0:\n",
    "            discount_tenors.append(diff)\n",
    "        else:\n",
    "            discount_tenors.append(0)\n",
    "        \n",
    "    discount_rates = []\n",
    "\n",
    "    for i, selected_tenor in enumerate(discount_tenors):\n",
    "        if selected_tenor == 0:\n",
    "            discount_rates.append(0)\n",
    "        else:\n",
    "            discount_rates.append(get_ir_interpolation(tenors, rates, selected_tenor))\n",
    "\n",
    "    df=[]\n",
    "    for selected_tenor, selected_rate in zip(discount_tenors, discount_rates):\n",
    "        if discount_tenors == 0:\n",
    "            df.append(0)\n",
    "        else:\n",
    "            df.append(1 / math.pow(1+ selected_rate, selected_tenor))\n",
    "\n",
    "    forward_rates = []\n",
    "    coupon_num = len(settle_dates)\n",
    "    \n",
    "    for i in range(coupon_num):\n",
    "        if get_year_diff_two_dates(val_date, settle_dates[i]) <= 0:\n",
    "            forward_rates.append(0)\n",
    "        elif get_year_diff_two_dates(reset_dates[i],val_date) >= 0:\n",
    "            idx=fixing_price_date.index(reset_dates[i])\n",
    "            forward_rates.append(fixing_price_value[idx])\n",
    "        else:\n",
    "            forward_rates.append((df[i-1]/df[i]-1)/get_year_diff_two_dates(settle_dates[i-1],settle_dates[i]))\n",
    "    \n",
    "    pay_coupon=[0]*len(forward_rates)\n",
    "\n",
    "    for i, coupon in enumerate(forward_rates):\n",
    "        if coupon == 0:\n",
    "            pay_coupon[i] = 0\n",
    "        else:\n",
    "            pay_coupon[i] = (coupon + spread)*get_year_diff_two_dates(begin_dates[i],end_dates[i])\n",
    "    \n",
    "    for i, coupon in enumerate(pay_coupon):\n",
    "        print(f\"{i} th expected coupon : {coupon} \")\n",
    "        \n",
    "    result = 0\n",
    "    for i in range(len(pay_coupon)):\n",
    "        if i < (len(pay_coupon) -1):\n",
    "            result += pay_coupon[i] * df[i]\n",
    "        else:\n",
    "            result += (1 + pay_coupon[i]) * df[i]\n",
    "\n",
    "    return result"
   ]
  },
  {
   "cell_type": "code",
   "execution_count": 40,
   "metadata": {},
   "outputs": [
    {
     "name": "stdout",
     "output_type": "stream",
     "text": [
      "만기까지 남은 날짜 연환산 : 0.9835616438356164\n"
     ]
    }
   ],
   "source": [
    "maturity_tenor = get_year_diff_two_dates(val_dt, mat_dt)\n",
    "print(f\"만기까지 남은 날짜 연환산 : {maturity_tenor}\")"
   ]
  },
  {
   "cell_type": "code",
   "execution_count": 41,
   "metadata": {},
   "outputs": [
    {
     "name": "stdout",
     "output_type": "stream",
     "text": [
      "만기 tenor에 해당하는 무위험 이자율 : 0.03058294794520548\n"
     ]
    }
   ],
   "source": [
    "maturity_rate = get_ir_interpolation(curve_tenors, curve_rates, maturity_tenor)\n",
    "print(f\"만기 tenor에 해당하는 무위험 이자율 : {maturity_rate}\")"
   ]
  },
  {
   "cell_type": "code",
   "execution_count": 19,
   "metadata": {},
   "outputs": [],
   "source": [
    "import numpy as np\n",
    "\n",
    "np.random.seed(77)"
   ]
  },
  {
   "cell_type": "code",
   "execution_count": 42,
   "metadata": {},
   "outputs": [],
   "source": [
    "random_numbers = np.random.normal(0, 1, [n_simul, 1])"
   ]
  },
  {
   "cell_type": "code",
   "execution_count": 43,
   "metadata": {},
   "outputs": [],
   "source": [
    "dt = maturity_tenor"
   ]
  },
  {
   "cell_type": "code",
   "execution_count": 44,
   "metadata": {},
   "outputs": [],
   "source": [
    "# 만기 시점에 예상되는 기초자산 가격\n",
    "predict_prices = np.zeros(n_simul)\n",
    "pay_offs = np.zeros(n_simul)"
   ]
  },
  {
   "cell_type": "code",
   "execution_count": 45,
   "metadata": {},
   "outputs": [],
   "source": [
    "for i, ran_num in enumerate(random_numbers):\n",
    "    predict_prices[i] = today_price * np.exp((maturity_rate - dividend - math.pow(volatility, 2)/ 2) * dt + volatility * ran_num * np.sqrt(dt))\n",
    "    pay_offs[i] = (predict_prices[i] / init_price) - 1"
   ]
  },
  {
   "cell_type": "code",
   "execution_count": 46,
   "metadata": {},
   "outputs": [
    {
     "name": "stdout",
     "output_type": "stream",
     "text": [
      "Price at 2023-6-15 : -0.011061857288483834\n"
     ]
    }
   ],
   "source": [
    "expectation_future = np.mean(pay_offs)\n",
    "print(f\"Price at {mat_dt} : {expectation_future}\")"
   ]
  },
  {
   "cell_type": "code",
   "execution_count": 27,
   "metadata": {},
   "outputs": [
    {
     "name": "stdout",
     "output_type": "stream",
     "text": [
      "Forward part present price : -0.01144659155442856\n"
     ]
    }
   ],
   "source": [
    "forward_price = expectation_future * np.exp(- maturity_rate * maturity_tenor)\n",
    "print(f\"Forward part present price : {forward_price}\")"
   ]
  },
  {
   "cell_type": "code",
   "execution_count": 49,
   "metadata": {},
   "outputs": [
    {
     "name": "stdout",
     "output_type": "stream",
     "text": [
      "0 th expected coupon : 0.004511780821917808 \n",
      "1 th expected coupon : 0.032115907857876956 \n",
      "2 th expected coupon : 0.007976401662285406 \n",
      "3 th expected coupon : 0.009613645693216237 \n"
     ]
    }
   ],
   "source": [
    "frn_price = pricing_FRN(val_dt, curve_tenors, curve_rates, spread, reset_dates, begin_dates, end_dates, \n",
    "                        settle_dates, fixing_price_date, fixing_price_value)"
   ]
  },
  {
   "cell_type": "code",
   "execution_count": 34,
   "metadata": {},
   "outputs": [
    {
     "name": "stdout",
     "output_type": "stream",
     "text": [
      "1.018998616129224\n"
     ]
    }
   ],
   "source": [
    "print(frn_price)"
   ]
  },
  {
   "cell_type": "code",
   "execution_count": 30,
   "metadata": {},
   "outputs": [
    {
     "name": "stdout",
     "output_type": "stream",
     "text": [
      "1.0075520245747953\n"
     ]
    }
   ],
   "source": [
    "print((forward_price + frn_price))"
   ]
  }
 ],
 "metadata": {
  "kernelspec": {
   "display_name": "Python 3.7.11 ('quant_lab')",
   "language": "python",
   "name": "python3"
  },
  "language_info": {
   "codemirror_mode": {
    "name": "ipython",
    "version": 3
   },
   "file_extension": ".py",
   "mimetype": "text/x-python",
   "name": "python",
   "nbconvert_exporter": "python",
   "pygments_lexer": "ipython3",
   "version": "3.7.11"
  },
  "orig_nbformat": 4,
  "vscode": {
   "interpreter": {
    "hash": "c540e98577778cde511f63c8df1a56f37bd37ecee6f323ddb96ca1e630977f7b"
   }
  }
 },
 "nbformat": 4,
 "nbformat_minor": 2
}
