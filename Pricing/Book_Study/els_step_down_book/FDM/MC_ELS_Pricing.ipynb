{
 "cells": [
  {
   "cell_type": "code",
   "execution_count": null,
   "source": [
    "import numpy as np\r\n",
    "print(np.__version__())"
   ],
   "outputs": [],
   "metadata": {}
  }
 ],
 "metadata": {
  "orig_nbformat": 4,
  "language_info": {
   "name": "python",
   "version": "3.7.10"
  },
  "kernelspec": {
   "name": "python3",
   "display_name": "Python 3.7.10 64-bit ('quant': conda)"
  },
  "interpreter": {
   "hash": "b432d778ad18ccb7c05b8cb38e9f492f09e57630bcca5acb278b68d6c2f77964"
  }
 },
 "nbformat": 4,
 "nbformat_minor": 2
}