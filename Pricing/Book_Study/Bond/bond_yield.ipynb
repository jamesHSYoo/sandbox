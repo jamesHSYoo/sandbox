{
 "cells": [
  {
   "cell_type": "markdown",
   "source": [
    "# 채권의 수익률\n",
    "## 1. 만기 수익률\n",
    "* 채권이 시장에서 거래되는 경우, 현재의 가격에 내재된 채권의 슈익률을 구할 수 있는데 이를 만기 수익률(Yield to Maturity)이라고 한다. \n",
    "* 만기 수익률은 미래의 현금흐름의 현재 가치와 현재 채권 가격을 일치 시키는 할인률이다. \n",
    "* 다음의 공식을 만족하는 $y$ 를 구하면 된다. ($P$ : 현재 채권 가격, $C$ : 현금 흐름, $F$ : 액면가, $m$ : 연 이자 지급 횟수, $T$ : 잔존만기)\n",
    "\n",
    "$$\n",
    "P = \\sum_{t = 1}^{mT} \\frac{C}{(1+y)^{t}} + \\frac{F}{(1+y)^{mT}}\n",
    "$$"
   ],
   "metadata": {}
  },
  {
   "cell_type": "markdown",
   "source": [
    "* 위 공식을 만족하는 $y$ 를 찾기 위해 시행착오 방법을 통해 산출 한다. "
   ],
   "metadata": {}
  },
  {
   "cell_type": "code",
   "execution_count": 10,
   "source": [
    "def bond_price(F, face_rate, rate_priod, mat, discount_rate):\n",
    "\n",
    "    t = mat * rate_priod\n",
    "    C = F * face_rate / rate_priod\n",
    "\n",
    "    price = 0\n",
    "\n",
    "    for i in range(t):\n",
    "\n",
    "        price = price + (C / pow(1 + discount_rate, i+1))\n",
    "\n",
    "    \n",
    "    return price + F / pow(1 + discount_rate, t)\n"
   ],
   "outputs": [],
   "metadata": {}
  },
  {
   "cell_type": "code",
   "execution_count": 18,
   "source": [
    "n_trial = 10000     # 시행횟수\n",
    "err_term = 1        # 오차범위\n",
    "term = 0.0001       # 증감\n",
    "\n",
    "market_bond_price = 10642\n",
    "face_price = 10000\n",
    "face_rate = 0.1\n",
    "mat = 10\n",
    "rate_priod = 1"
   ],
   "outputs": [],
   "metadata": {}
  },
  {
   "cell_type": "code",
   "execution_count": 20,
   "source": [
    "inital_ytm = 0.8\n",
    "\n",
    "for i in range(n_trial):\n",
    "\n",
    "    result = bond_price(face_price, face_rate, rate_priod, mat, inital_ytm)\n",
    "    if abs(market_bond_price - result) < err_term:\n",
    "        print(f'채권 만기 수익률 {round(inital_ytm*100, 2)} %')\n",
    "        break;\n",
    "    else:\n",
    "        if(market_bond_price > result):\n",
    "            inital_ytm = inital_ytm - term\n",
    "        else:\n",
    "            inital_ytm = inital_ytm + term"
   ],
   "outputs": [
    {
     "output_type": "stream",
     "name": "stdout",
     "text": [
      "채권 만기 수익률 9.0 %\n"
     ]
    }
   ],
   "metadata": {}
  },
  {
   "cell_type": "markdown",
   "source": [
    "### 1.1 Other way to get YTM using Approximation\n",
    "* 액면가 $F$ , 액면이자율(연) $r$ , 만기 $T$ , 채권의 현재 가격 $P$ 에 대해서 근사 방식으로 만기 수익률을 구하는 공식은 다음과 같다. \n",
    "$$\n",
    "y = \\frac{F * r + \\frac{F - P}{T}}{\\frac{F+P}{2}}\n",
    "$$"
   ],
   "metadata": {}
  },
  {
   "cell_type": "code",
   "execution_count": 14,
   "source": [
    "T = 3\n",
    "r = 0.08\n",
    "F = 10000\n",
    "P = 9487\n",
    "\n",
    "y = (F * r + (F - P) / T) / ((F + P) / 2)\n",
    "print(f'만기 수익률 : {round(y*100, 3)} %')"
   ],
   "outputs": [
    {
     "output_type": "stream",
     "name": "stdout",
     "text": [
      "만기 수익률 : 9.966 %\n"
     ]
    }
   ],
   "metadata": {}
  },
  {
   "cell_type": "markdown",
   "source": [
    "### 1.2 무이표채의 만기수익률\n",
    "* 액면가 $F$ , 만기 $T$ , 연 이자 지급 횟수 : $m$ 에 대해서 무이표채의 가격 공식 $P = \\frac{F}{(1+y)^{mT}}$ 로 부터 만기 수익률은 다음과 같이 유도된다.\n",
    "$$\n",
    "y = (\\frac{F}{P})^{\\frac{1}{mT}} - 1\n",
    "$$"
   ],
   "metadata": {}
  },
  {
   "cell_type": "code",
   "execution_count": 11,
   "source": [
    "## TODO : 파이썬에서 n 제곱근 방법???\n",
    "\n",
    "def get_ytm_zero_bond(F, P, m, T):\n",
    "    return ((F/P) ** (1/m*T)) - 1"
   ],
   "outputs": [],
   "metadata": {}
  },
  {
   "cell_type": "code",
   "execution_count": 5,
   "source": [
    "F = 10000\n",
    "P = 5756\n",
    "m = 4\n",
    "T = 5\n",
    "\n",
    "y = get_ytm_zero_bond(F, P, m, T)\n",
    "print(y)"
   ],
   "outputs": [
    {
     "output_type": "stream",
     "name": "stdout",
     "text": [
      "0.9945687867000115\n"
     ]
    }
   ],
   "metadata": {}
  }
 ],
 "metadata": {
  "orig_nbformat": 4,
  "language_info": {
   "name": "python",
   "version": "3.7.7",
   "mimetype": "text/x-python",
   "codemirror_mode": {
    "name": "ipython",
    "version": 3
   },
   "pygments_lexer": "ipython3",
   "nbconvert_exporter": "python",
   "file_extension": ".py"
  },
  "kernelspec": {
   "name": "python3",
   "display_name": "Python 3.7.7 64-bit ('quant_lab': pyenv)"
  },
  "interpreter": {
   "hash": "4877272967631b7471629e770b69a7d6bc2e342dcd6ead33bb5fa164b2cdf373"
  }
 },
 "nbformat": 4,
 "nbformat_minor": 2
}