{
 "cells": [
  {
   "cell_type": "code",
   "execution_count": 2,
   "metadata": {},
   "outputs": [],
   "source": [
    "## 발행정보 - To IRS FRN leg\n",
    "spread = 0.0    # 쿠폰에 더해지는 스프레드\n",
    "\n",
    "reset_dates = ['2021-11-30','2022-02-28','2022-05-31','2022-08-31','2022-11-30','2023-02-28','2023-05-31','2023-08-31']\n",
    "begin_dates = ['2021-12-01','2022-03-02','2022-06-02','2022-09-01','2022-12-01','2023-03-02','2023-06-01','2023-09-01']\n",
    "end_dates = ['2022-03-02','2022-06-02','2022-09-01','2022-12-01','2023-03-02','2023-06-01','2023-09-01','2023-12-01']\n",
    "settle_dates = ['2022-03-02','2022-06-02','2022-09-01','2022-12-01','2023-03-02','2023-06-01','2023-09-01','2023-12-01']\n",
    "\n",
    "fixing_dates = ['2021-11-30']   # 금리 결정일 <= 평가일 <= 쿠폰지급일 인 경우 결제가 되지 않았기 때문에 사용\n",
    "fixing_prices = [0.0126]         # 위와 같은 상황에서 금리값\n",
    "\n",
    "## 마켓데이터 - 2021-11-05일자 IRSKRW_SPOT Curve\n",
    "spot_tenors =[0.00278,0.25,0.5,0.75,1,1.25,1.5,1.75,2,2.25,2.5,2.75,3]\n",
    "spot_rates = [0.0104,0.01258,0.013654,0.014303,0.01514,0.01578,0.016408,0.016746,0.017085,0.017248,0.017411,0.017575,0.017738]\n",
    "\n",
    "#계산일(평가일)\n",
    "val_date = '2021-11-30'      "
   ]
  },
  {
   "cell_type": "code",
   "execution_count": 3,
   "metadata": {},
   "outputs": [],
   "source": [
    "import datetime\n",
    "import math\n",
    "\n",
    "# 사용 할 함수 정의\n",
    "\n",
    "# 보간법을 이용하여 지정된  tenor 사이의 teminate_time 의 이자율 산출\n",
    "def get_ir_interpolation(target_tenors, target_rates, selected_tenor):\n",
    "    if len(target_tenors) == 1:\n",
    "        return target_rates[0]\n",
    "    if target_tenors[-1] <= selected_tenor:\n",
    "        return target_rates[:-1]\n",
    "\n",
    "    for i, tenor in enumerate(target_tenors):\n",
    "        if tenor == selected_tenor:\n",
    "            return target_rates[i]\n",
    "        else:\n",
    "            if tenor > selected_tenor:\n",
    "                return target_rates[i-1] + (selected_tenor - target_tenors[i-1]) \\\n",
    "                       / (target_tenors[i] - target_tenors[i-1]) * (target_rates[i] - target_rates[i-1])\n"
   ]
  },
  {
   "cell_type": "code",
   "execution_count": 4,
   "metadata": {},
   "outputs": [],
   "source": [
    "# 두 날짜 차이의 연환산값 산출\n",
    "def get_year_diff_two_dates(start_date, end_date):\n",
    "    start = datetime.datetime.strptime(start_date, \"%Y-%m-%d\")\n",
    "    end = datetime.datetime.strptime(end_date, \"%Y-%m-%d\")\n",
    "    return ((end - start).days) / 365\n",
    "\n",
    "# 단순히 두 날짜의 차이 산출\n",
    "def get_diff_two_dates(start_date, end_date):\n",
    "    start = datetime.datetime.strptime(start_date, \"%Y-%m-%d\")\n",
    "    end = datetime.datetime.strptime(end_date, \"%Y-%m-%d\")\n",
    "    return ((end - start).days)"
   ]
  },
  {
   "cell_type": "code",
   "execution_count": 5,
   "metadata": {},
   "outputs": [],
   "source": [
    "# 평가일(계산일) ~ 각 쿠폰일의 날짜 차이에 따른 할인 금리 만들기\n",
    "discount_tenors = []\n",
    "discount_rates = []\n",
    "\n",
    "for date in settle_dates:\n",
    "    discount_tenors.append(get_year_diff_two_dates(val_date,date))\n"
   ]
  },
  {
   "cell_type": "code",
   "execution_count": 6,
   "metadata": {},
   "outputs": [
    {
     "name": "stdout",
     "output_type": "stream",
     "text": [
      "결제일 2022-03-02 ~ 평가일 2021-11-30 의 연 환산 값 : 0.2520547945\n",
      "결제일 2022-06-02 ~ 평가일 2021-11-30 의 연 환산 값 : 0.504109589\n",
      "결제일 2022-09-01 ~ 평가일 2021-11-30 의 연 환산 값 : 0.7534246575\n",
      "결제일 2022-12-01 ~ 평가일 2021-11-30 의 연 환산 값 : 1.002739726\n",
      "결제일 2023-03-02 ~ 평가일 2021-11-30 의 연 환산 값 : 1.2520547945\n",
      "결제일 2023-06-01 ~ 평가일 2021-11-30 의 연 환산 값 : 1.501369863\n",
      "결제일 2023-09-01 ~ 평가일 2021-11-30 의 연 환산 값 : 1.7534246575\n",
      "결제일 2023-12-01 ~ 평가일 2021-11-30 의 연 환산 값 : 2.002739726\n"
     ]
    }
   ],
   "source": [
    "for settle_date, tenor in zip(settle_dates, discount_tenors):\n",
    "    print(f\"결제일 {settle_date} ~ 평가일 {val_date} 의 연 환산 값 : {round(tenor, 10)}\")"
   ]
  },
  {
   "cell_type": "code",
   "execution_count": 7,
   "metadata": {},
   "outputs": [],
   "source": [
    "# 위에서 구한 discount_tenors 값에 따른 각각의 이자율 산출\n",
    "for tenor in discount_tenors:\n",
    "    discount_rates.append(get_ir_interpolation(target_tenors=spot_tenors, target_rates=spot_rates, selected_tenor=tenor))"
   ]
  },
  {
   "cell_type": "code",
   "execution_count": 8,
   "metadata": {},
   "outputs": [
    {
     "name": "stdout",
     "output_type": "stream",
     "text": [
      "tenor 0.2520548 의 rate : 0.0125888\n",
      "tenor 0.5041096 의 rate : 0.0136647\n",
      "tenor 0.7534247 의 rate : 0.0143145\n",
      "tenor 1.0027397 의 rate : 0.015147\n",
      "tenor 1.2520548 의 rate : 0.0157852\n",
      "tenor 1.5013699 의 rate : 0.0164099\n",
      "tenor 1.7534247 의 rate : 0.0167506\n",
      "tenor 2.0027397 의 rate : 0.0170868\n"
     ]
    }
   ],
   "source": [
    "for tenor, rate in zip(discount_tenors, discount_rates):\n",
    "    print(f\"tenor {round(tenor, 7)} 의 rate : {round(rate, 7)}\")"
   ]
  },
  {
   "cell_type": "markdown",
   "metadata": {},
   "source": [
    "* Discount Tenor 산출 공식 : Discount Factor $= exp(-rate * tenor)$\n"
   ]
  },
  {
   "cell_type": "code",
   "execution_count": 9,
   "metadata": {},
   "outputs": [],
   "source": [
    "# 엑셀 시트 ANS 탭의 DiscountFactor부분\n",
    "discount_factor = []\n",
    "for tenor, rate in zip(discount_tenors, discount_rates):\n",
    "    discount_factor.append(math.exp(- rate * tenor))"
   ]
  },
  {
   "cell_type": "code",
   "execution_count": 30,
   "metadata": {},
   "outputs": [
    {
     "name": "stdout",
     "output_type": "stream",
     "text": [
      "0.25205479452054796\n",
      "0.5041095890410959\n",
      "0.7534246575342466\n",
      "1.0027397260273974\n",
      "1.252054794520548\n",
      "1.5013698630136987\n",
      "1.7534246575342465\n",
      "2.0027397260273974\n"
     ]
    }
   ],
   "source": [
    "for dis_tenor in discount_tenors:\n",
    "    print(dis_tenor)"
   ]
  },
  {
   "cell_type": "code",
   "execution_count": 10,
   "metadata": {},
   "outputs": [
    {
     "name": "stdout",
     "output_type": "stream",
     "text": [
      "0 - th discount factor : 0.9968319545769854\n",
      "1 - th discount factor : 0.9931351808473751\n",
      "2 - th discount factor : 0.9892730767596721\n",
      "3 - th discount factor : 0.9849262513230784\n",
      "4 - th discount factor : 0.9804301379687609\n",
      "5 - th discount factor : 0.9756637627228489\n",
      "6 - th discount factor : 0.9710561436388943\n",
      "7 - th discount factor : 0.9663585095558931\n"
     ]
    }
   ],
   "source": [
    "for i, df in enumerate(discount_factor):\n",
    "    print(f\"{i} - th discount factor : {df}\")"
   ]
  },
  {
   "cell_type": "code",
   "execution_count": 9,
   "metadata": {},
   "outputs": [],
   "source": [
    "# forward rate 산출\n",
    "# 각각의 선도 이자율의 의미 : 평가일 시점에서 파악한 i번째 기산일 ~ i번째 기말일까지의 이자율"
   ]
  },
  {
   "cell_type": "code",
   "execution_count": 11,
   "metadata": {},
   "outputs": [],
   "source": [
    "coupon_list = []\n",
    "coupon_num = len(settle_dates)\n",
    "\n",
    "for i in range(coupon_num):\n",
    "    if get_year_diff_two_dates(val_date, settle_dates[i]) <= 0:    # 쿠폰지급일 <= 평가일 인 경우 쿠폰 0\n",
    "        coupon_list.append(0) \n",
    "    elif get_year_diff_two_dates(reset_dates[i], val_date) >= 0:   # 리셋일 <= 평가일 <= 쿠폰지급일 인 경우 이미 리셋일에 정해진 이자가 fixing_prices에 있기 때문에 그것을 그대로 가져옴\n",
    "        idx = fixing_dates.index(reset_dates[i])\n",
    "        coupon_list.append(fixing_prices[idx])\n",
    "    else:                                                             # 평가일 < 리셋일 인 경우 Forward Rate 를 산출\n",
    "        coupon_list.append((discount_factor[i-1] / discount_factor[i] - 1) \n",
    "            / (get_diff_two_dates(settle_dates[i-1], settle_dates[i]) / 365))\n"
   ]
  },
  {
   "cell_type": "code",
   "execution_count": 12,
   "metadata": {},
   "outputs": [
    {
     "name": "stdout",
     "output_type": "stream",
     "text": [
      "각 쿠폰일의 추정 금리\n",
      "0 - th forward rate : 0.0126\n",
      "1 - th forward rate : 0.014767927097782805\n",
      "2 - th forward rate : 0.015658828102157914\n",
      "3 - th forward rate : 0.01770190309725581\n",
      "4 - th forward rate : 0.01839382589124703\n",
      "5 - th forward rate : 0.019594740999962446\n",
      "6 - th forward rate : 0.01882509884436375\n",
      "7 - th forward rate : 0.01949810396270438\n"
     ]
    }
   ],
   "source": [
    "# 엑셀 시트 ANS 탭의 확정(추정)금리 부분\n",
    "# 각각의 금리는 연 환산이므로 실제로 지급하는 쿠폰은 \"기말일-기산일\" 로 나눠주어야 한다. \n",
    "print(\"각 쿠폰일의 추정 금리\")\n",
    "for i, fr in enumerate(coupon_list):\n",
    "    print(f\"{i} - th forward rate : {fr}\")    "
   ]
  },
  {
   "cell_type": "code",
   "execution_count": 13,
   "metadata": {},
   "outputs": [],
   "source": [
    "# 확정(추정)금리가 연이자율이기 때문에 기산일~기말일 사이로 바꿔주기 위해서 곱할 것들을 만들어줌\n",
    "begin_end_diff = []\n",
    "for begin, end in zip(begin_dates, end_dates):\n",
    "    begin_end_diff.append(get_year_diff_two_dates(begin, end))"
   ]
  },
  {
   "cell_type": "code",
   "execution_count": 14,
   "metadata": {},
   "outputs": [],
   "source": [
    "# 엑셀 시트 ANS 탭의 지급 쿠폰 부분\n",
    "pay_cpn = []\n",
    "for i in range(len(coupon_list)):\n",
    "    pay_cpn.append(0)\n",
    "\n",
    "for i, coupon in enumerate(coupon_list):\n",
    "    if coupon == 0:\n",
    "        pay_cpn[i] = 0\n",
    "    else:\n",
    "        pay_cpn[i] = (coupon + spread) * begin_end_diff[i]    # 연이율에서 기산일-기말일 로 바꿔줌\n"
   ]
  },
  {
   "cell_type": "code",
   "execution_count": 15,
   "metadata": {},
   "outputs": [
    {
     "name": "stdout",
     "output_type": "stream",
     "text": [
      "0 - th Pay Coupon rate : 0.003141369863013699 at settle date 2022-03-02\n",
      "1 - th Pay Coupon rate : 0.003722326830126077 at settle date 2022-06-02\n",
      "2 - th Pay Coupon rate : 0.003903981800811973 at settle date 2022-09-01\n",
      "3 - th Pay Coupon rate : 0.004413351183151448 at settle date 2022-12-01\n",
      "4 - th Pay Coupon rate : 0.004585857961927342 at settle date 2023-03-02\n",
      "5 - th Pay Coupon rate : 0.004885264194511185 at settle date 2023-06-01\n",
      "6 - th Pay Coupon rate : 0.00474495642104511 at settle date 2023-09-01\n",
      "7 - th Pay Coupon rate : 0.004861171124948216 at settle date 2023-12-01\n"
     ]
    }
   ],
   "source": [
    "for i, act_cpn_rate in enumerate(pay_cpn):\n",
    "    print(f\"{i} - th Pay Coupon rate : {act_cpn_rate} at settle date {settle_dates[i]}\")"
   ]
  },
  {
   "cell_type": "code",
   "execution_count": 16,
   "metadata": {},
   "outputs": [],
   "source": [
    "result = 0\n",
    "for i in range(len(pay_cpn)):\n",
    "    if i < (len(pay_cpn) -1):\n",
    "        result += pay_cpn[i] * discount_factor[i]\n",
    "    else:\n",
    "        result += (pay_cpn[i]) * discount_factor[i]"
   ]
  },
  {
   "cell_type": "code",
   "execution_count": 19,
   "metadata": {},
   "outputs": [
    {
     "name": "stdout",
     "output_type": "stream",
     "text": [
      "Floating Leg Price = 0.03360486288168947\n"
     ]
    }
   ],
   "source": [
    "print(f\"Floating Leg Price = {result}\")"
   ]
  },
  {
   "cell_type": "code",
   "execution_count": 20,
   "metadata": {},
   "outputs": [],
   "source": [
    "fixed_rate = 0.0171"
   ]
  },
  {
   "cell_type": "markdown",
   "metadata": {},
   "source": [
    "# Floating Leg 의 쿠폰 쿠폰 스케쥴과 동일 하기 때문에 DF를 그대로 사용"
   ]
  },
  {
   "cell_type": "code",
   "execution_count": 21,
   "metadata": {},
   "outputs": [],
   "source": [
    "fixed_coupon_list = []\n",
    "coupon_num = len(settle_dates)\n",
    "\n",
    "for i in range(coupon_num):\n",
    "    if get_year_diff_two_dates(val_date, settle_dates[i]) <= 0:    # 쿠폰지급일 <= 평가일 인 경우 쿠폰 0\n",
    "        fixed_coupon_list.append(0) \n",
    "    else:                                                             # 평가일 < 리셋일 인 경우 Forward Rate 를 산출\n",
    "        fixed_coupon_list.append(fixed_rate)"
   ]
  },
  {
   "cell_type": "code",
   "execution_count": 23,
   "metadata": {},
   "outputs": [],
   "source": [
    "# 확정(추정)금리가 연이자율이기 때문에 기산일~기말일 사이로 바꿔주기 위해서 곱할 것들을 만들어줌\n",
    "begin_end_diff = []\n",
    "for begin, end in zip(begin_dates, end_dates):\n",
    "    begin_end_diff.append(get_year_diff_two_dates(begin, end))"
   ]
  },
  {
   "cell_type": "code",
   "execution_count": 24,
   "metadata": {},
   "outputs": [],
   "source": [
    "# 엑셀 시트 ANS 탭의 지급 쿠폰 부분\n",
    "fixed_pay_cpn = []\n",
    "for i in range(len(fixed_coupon_list)):\n",
    "    fixed_pay_cpn.append(0)\n",
    "\n",
    "for i, coupon in enumerate(fixed_coupon_list):\n",
    "    if coupon == 0:\n",
    "        fixed_pay_cpn[i] = 0\n",
    "    else:\n",
    "        fixed_pay_cpn[i] = (coupon) * begin_end_diff[i] "
   ]
  },
  {
   "cell_type": "code",
   "execution_count": 26,
   "metadata": {},
   "outputs": [
    {
     "name": "stdout",
     "output_type": "stream",
     "text": [
      "Fixed Leg Price = 0.03359155004442398\n"
     ]
    }
   ],
   "source": [
    "fixed_result = 0\n",
    "for i in range(len(pay_cpn)):\n",
    "    if i < (len(pay_cpn) -1):\n",
    "        fixed_result += fixed_pay_cpn[i] * discount_factor[i]\n",
    "    else:\n",
    "        fixed_result += (fixed_pay_cpn[i]) * discount_factor[i]\n",
    "\n",
    "print(f\"Fixed Leg Price = {fixed_result}\")"
   ]
  },
  {
   "cell_type": "code",
   "execution_count": 29,
   "metadata": {},
   "outputs": [
    {
     "name": "stdout",
     "output_type": "stream",
     "text": [
      "IRS Price = 1.3312837265487543e-05\n"
     ]
    }
   ],
   "source": [
    "print(f\"IRS Price = {result - fixed_result}\")"
   ]
  }
 ],
 "metadata": {
  "interpreter": {
   "hash": "089b7837b70d304ebefeba5e34b553631ce5a48099cc0b736fe1607e71dc78f8"
  },
  "kernelspec": {
   "display_name": "Python 3.7.11 64-bit ('quant_lab': conda)",
   "name": "python3"
  },
  "language_info": {
   "codemirror_mode": {
    "name": "ipython",
    "version": 3
   },
   "file_extension": ".py",
   "mimetype": "text/x-python",
   "name": "python",
   "nbconvert_exporter": "python",
   "pygments_lexer": "ipython3",
   "version": "3.7.11"
  },
  "orig_nbformat": 4
 },
 "nbformat": 4,
 "nbformat_minor": 2
}
