{
 "cells": [
  {
   "cell_type": "code",
   "execution_count": 1,
   "metadata": {},
   "outputs": [],
   "source": [
    "ytm_tenors = [3, 6, 12, 24, 36, 48, 60]\n",
    "ytm_rates = [0.00138497, 0.00122494, 0.0012993, 0.00165278, 0.0021181, 0.00292553, 0.00397573]\n",
    "currency = 'KRW'"
   ]
  },
  {
   "cell_type": "code",
   "execution_count": 2,
   "metadata": {},
   "outputs": [],
   "source": [
    "coupon_tenor = 0    # CPNT in R\n",
    "start_idx = 0       # STndx in R\n",
    "\n",
    "if currency == 'USD':\n",
    "    coupon_tenor = 2   # Semi-Annual\n",
    "    start_idx = 1      # R에선 인덱스가 1부터 시작하므로 2이지만 파이썬은 0부터 시작\n",
    "else:\n",
    "    coupon_tenor = 4\n",
    "    start_idx = 0      # R에선 인덱스가 1부터 시작하므로 1이지만 파이썬은 0부터 시작\n",
    "\n",
    "\n",
    "\n",
    "# 지급 주기(월 환산)\n",
    "ir_freq = 12 // coupon_tenor                        # QTSA in R \n",
    "nterm = len(ytm_tenors)\n",
    "max_tenor = ytm_tenors[-1]                          # MaxT in R \n",
    "n_generated_tenor = divmod(max_tenor, ir_freq)[0]   # MaxN in R \n",
    "\n",
    "\n",
    "# 저장할 스팟커브 리스트\n",
    "spot_rate = [0 for i in range(nterm)]"
   ]
  },
  {
   "cell_type": "code",
   "execution_count": 3,
   "metadata": {},
   "outputs": [],
   "source": [
    "# 4개의 리스트가 모두 같은 크기로 초기화됨              YTMSPOT in R\n",
    "ytm_spot_month = [(i+1) * ir_freq for i in range(n_generated_tenor)]      # 3개월 주기로 tenors를 만들어줌\n",
    "ytm_spot_rate = [0 for i in range(n_generated_tenor)]\n",
    "ytm_spot_df = [0 for i in range(n_generated_tenor)]\n",
    "ytm_spot_annuity = [0 for i in range(n_generated_tenor)]"
   ]
  },
  {
   "cell_type": "code",
   "execution_count": 4,
   "metadata": {},
   "outputs": [],
   "source": [
    "# R로직 그대로 소스\n",
    "for i in range(start_idx, nterm, 1):\n",
    "    ytm_spot_rate[divmod(ytm_tenors[i], ir_freq)[0]-1] = ytm_rates[i]"
   ]
  },
  {
   "cell_type": "code",
   "execution_count": 5,
   "metadata": {},
   "outputs": [],
   "source": [
    "# R로직 그대로 소스를 변경한 소스\n",
    "# 위에서 ytm_spot_month 와 ytm_tenors 와 비교 하여 같은 tenor가 있는 경우 그에 해당하는 이자율을 ytm_rates에서 가져와 ytm_spot_rate에 저장\n",
    "for i, tenor in enumerate(ytm_tenors):\n",
    "    if i < start_idx:\n",
    "        continue\n",
    "    else:\n",
    "        idx = ytm_spot_month.index(tenor)\n",
    "        if idx < 0:\n",
    "            continue\n",
    "        else:\n",
    "            ytm_spot_rate[idx] = ytm_rates[i]"
   ]
  },
  {
   "cell_type": "code",
   "execution_count": 6,
   "metadata": {},
   "outputs": [],
   "source": [
    "i = 0\n",
    "while i < len(ytm_spot_rate):\n",
    "    # 빈 rate(0의 값을 가짐)에 대해서 보간법으로 값을 채워주는 작업\n",
    "    if ytm_spot_rate[i] == 0:\n",
    "        \n",
    "        zero_indecs = 1\n",
    "        # i번째 뒤로 몇개나 rate가 0인지 확인\n",
    "        while ytm_spot_rate[i + zero_indecs] == 0:\n",
    "            zero_indecs += 1\n",
    "        \n",
    "        # 보간법 이용해서 0인 부분 채워넣기\n",
    "        for j in range(zero_indecs):\n",
    "            ytm_spot_rate[i + j] = (zero_indecs - j)/(zero_indecs+1) * ytm_spot_rate[i-1] + (j+1 )/(zero_indecs+1) * ytm_spot_rate[i + zero_indecs]\n",
    "        \n",
    "        i += zero_indecs\n",
    "    i+=1"
   ]
  },
  {
   "cell_type": "code",
   "execution_count": 7,
   "metadata": {},
   "outputs": [],
   "source": [
    "for i in range(2):\n",
    "    ytm_spot_df[i] = 1/(1 + ytm_spot_month[i]/12 * ytm_spot_rate[i])\n",
    "    "
   ]
  },
  {
   "cell_type": "code",
   "execution_count": 8,
   "metadata": {},
   "outputs": [],
   "source": [
    "sum = 0\n",
    "for i in range(2):\n",
    "    sum += ytm_spot_df[i]\n",
    "    ytm_spot_annuity[i] = sum"
   ]
  },
  {
   "cell_type": "code",
   "execution_count": 9,
   "metadata": {},
   "outputs": [],
   "source": [
    "for i in range(2, n_generated_tenor):\n",
    "    ytm_spot_df[i] = (1- ytm_spot_rate[i] * ytm_spot_annuity[i-1] / coupon_tenor) / (1 + ytm_spot_rate[i] / coupon_tenor)\n",
    "    ytm_spot_annuity[i] = ytm_spot_annuity[i-1] + ytm_spot_df[i]"
   ]
  },
  {
   "cell_type": "code",
   "execution_count": 10,
   "metadata": {},
   "outputs": [],
   "source": [
    "for i in range(nterm):\n",
    "    selected_tenor_idx = divmod(ytm_tenors[i], ir_freq)[0]\n",
    "\n",
    "    if i == 0:\n",
    "        spot_rate[i] = ytm_rates[0]\n",
    "    else:\n",
    "        spot_rate[i] = (pow(ytm_spot_df[selected_tenor_idx - 1], (-1/selected_tenor_idx)) - 1) * coupon_tenor"
   ]
  },
  {
   "cell_type": "code",
   "execution_count": 11,
   "metadata": {},
   "outputs": [
    {
     "data": {
      "text/plain": [
       "[0.00138497,\n",
       " 0.0012247524976647384,\n",
       " 0.0012993142095538701,\n",
       " 0.0016531270960671307,\n",
       " 0.0021194358903890986,\n",
       " 0.002930568479521334,\n",
       " 0.0039897772998855885]"
      ]
     },
     "execution_count": 11,
     "metadata": {},
     "output_type": "execute_result"
    }
   ],
   "source": [
    "spot_rate"
   ]
  }
 ],
 "metadata": {
  "kernelspec": {
   "display_name": "Python 3.7.11 ('quant_lab')",
   "language": "python",
   "name": "python3"
  },
  "language_info": {
   "codemirror_mode": {
    "name": "ipython",
    "version": 3
   },
   "file_extension": ".py",
   "mimetype": "text/x-python",
   "name": "python",
   "nbconvert_exporter": "python",
   "pygments_lexer": "ipython3",
   "version": "3.7.11"
  },
  "orig_nbformat": 4,
  "vscode": {
   "interpreter": {
    "hash": "c540e98577778cde511f63c8df1a56f37bd37ecee6f323ddb96ca1e630977f7b"
   }
  }
 },
 "nbformat": 4,
 "nbformat_minor": 2
}
