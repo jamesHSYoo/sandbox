{
 "cells": [
  {
   "cell_type": "code",
   "execution_count": 12,
   "metadata": {},
   "outputs": [],
   "source": [
    "tenors = [0.25, 0.5, 0.75, 1, 1.5, 2, 2.5, 3,4, 5, 7, 10, 20, 30]\n",
    "ytm_rate = [0.765, 0.805, 1.035, 1.1, 1.372, 1.472, 1.567, 1.645, 1.897, 1.99, 2.167, 2.295, 2.257, 2.22]"
   ]
  },
  {
   "cell_type": "code",
   "execution_count": 13,
   "metadata": {},
   "outputs": [],
   "source": [
    "tenors = [0.25, 0.5, 0.75, 1, 1.5, 2, 2.5, 3, 3.5, 4, 4.5, 5]\n",
    "ytm_rate = [0.00497, 0.00551, 0.00605, 0.00827, 0.00895, 0.01035, 0.01175, 0.01344, 0.01512, 0.01559, 0.016]\n",
    "\n",
    "r = 0.0125 #액면 이자율\n",
    "face_value = 100"
   ]
  },
  {
   "cell_type": "code",
   "execution_count": 11,
   "metadata": {},
   "outputs": [],
   "source": [
    "spot_rate = []"
   ]
  },
  {
   "cell_type": "code",
   "execution_count": null,
   "metadata": {},
   "outputs": [],
   "source": [
    "import math\n",
    "\n",
    "for i, tenor in enumerate(tenors):\n",
    "    if i == 0:\n",
    "        spot_rate.append(ytm_rate[i])\n",
    "    else:\n",
    "        cpn_sum = 0\n",
    "        for j in range(i + 1):\n",
    "            if j != i:\n",
    "                cpn_sum = cpn_sum + (face_value * r) * math.exp(- spot_rate[j] * tenors[j])"
   ]
  }
 ],
 "metadata": {
  "kernelspec": {
   "display_name": "Python 3.7.11 ('quant_lab')",
   "language": "python",
   "name": "python3"
  },
  "language_info": {
   "codemirror_mode": {
    "name": "ipython",
    "version": 3
   },
   "file_extension": ".py",
   "mimetype": "text/x-python",
   "name": "python",
   "nbconvert_exporter": "python",
   "pygments_lexer": "ipython3",
   "version": "3.7.11"
  },
  "orig_nbformat": 4,
  "vscode": {
   "interpreter": {
    "hash": "c540e98577778cde511f63c8df1a56f37bd37ecee6f323ddb96ca1e630977f7b"
   }
  }
 },
 "nbformat": 4,
 "nbformat_minor": 2
}
