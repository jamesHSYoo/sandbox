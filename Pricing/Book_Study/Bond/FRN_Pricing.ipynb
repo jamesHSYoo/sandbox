{
 "cells": [
  {
   "cell_type": "code",
   "execution_count": 4,
   "metadata": {},
   "outputs": [],
   "source": [
    "## 발행정보\n",
    "spread = 0.003    # 쿠폰에 더해지는 스프레드\n",
    "\n",
    "reset_dates = ['2021-08-12','2021-11-15','2022-02-14','2022-05-13']     # 금리 결정일\n",
    "begin_dates = ['2021-08-13','2021-11-16','2022-02-15','2022-05-16']     # 기산일\n",
    "end_dates = ['2021-11-16','2022-02-15','2022-05-16','2022-08-17']       # 기말일\n",
    "settle_dates = ['2021-11-16','2022-02-15','2022-05-16','2022-08-17']    # 쿠폰 지급일(결제일)\n",
    "  \n",
    "fixing_dates = ['2021-08-12']     # 금리 결정일 <= 평가일 <= 쿠폰지급일 인 경우 결제가 되지 않았기 때문에 사용\n",
    "fixing_prices = [0.0072]          # 위와 같은 상황에서 금리값\n",
    "\n",
    "## 마켓데이터 - 2021-11-05일자 IRSKRW_SPOT Curve\n",
    "spot_tenors = [0.00278,0.25,0.5,0.75,1,1.25,1.5,1.75,2,2.25,2.5,2.75,3,3.25,3.5,3.75,4,4.25,4.5,4.75,5,5.25,5.5,5.75,6,\n",
    "          6.25,6.5,6.75,7,7.25,7.5,7.75,8,8.25,8.5,8.75,9,9.25,9.5,9.75,10,12,15,20]\n",
    "spot_rates = [0.0076,0.011284,0.013356,0.01468,0.016333,0.017209,0.018088,0.018741,0.019396,0.019557,0.019718,0.01988,\n",
    "         0.020043,0.020046,0.02005,0.020054,0.020058,0.020036,0.020016,0.019995,0.019973,0.019955,0.019939,0.019922,\n",
    "         0.019905,0.019887,0.01987,0.019851,0.019836,0.019827,0.019825,0.019825,0.019826,0.019826,0.019825,0.019821,\n",
    "         0.019815,0.019807,0.019801,0.019799,0.019806,0.019942,0.019206,0.01779]\n",
    "\n",
    "#계산일(평가일)\n",
    "val_date = '2021-11-05'         \n"
   ]
  },
  {
   "cell_type": "code",
   "execution_count": 5,
   "metadata": {},
   "outputs": [],
   "source": [
    "import datetime\n",
    "import math\n",
    "\n",
    "# 사용 할 함수 정의\n",
    "\n",
    "# 보간법을 이용하여 지정된  tenor 사이의 teminate_time 의 이자율 산출\n",
    "def get_ir_interpolation(target_tenors, target_rates, selected_tenor):\n",
    "    if len(target_tenors) == 1:\n",
    "        return target_rates[0]\n",
    "    if target_tenors[-1] <= selected_tenor:\n",
    "        return target_rates[-1]\n",
    "\n",
    "    for i, tenor in enumerate(target_tenors):\n",
    "        if tenor == selected_tenor:\n",
    "            return target_rates[i]\n",
    "        else:\n",
    "            if tenor > selected_tenor:\n",
    "                return target_rates[i-1] + (selected_tenor - target_tenors[i-1]) \\\n",
    "                       / (target_tenors[i] - target_tenors[i-1]) * (target_rates[i] - target_rates[i-1])\n"
   ]
  },
  {
   "cell_type": "code",
   "execution_count": 36,
   "metadata": {},
   "outputs": [],
   "source": [
    "# 두 날짜 차이의 연환산값 산출\n",
    "def get_year_diff_two_dates(start_date, end_date):\n",
    "    start = datetime.datetime.strptime(start_date, \"%Y-%m-%d\")\n",
    "    end = datetime.datetime.strptime(end_date, \"%Y-%m-%d\")\n",
    "    return ((end - start).days) / 365\n",
    "\n",
    "# 단순히 두 날짜의 차이 산출\n",
    "def get_diff_two_dates(start_date, end_date):\n",
    "    start = datetime.datetime.strptime(start_date, \"%Y-%m-%d\")\n",
    "    end = datetime.datetime.strptime(end_date, \"%Y-%m-%d\")\n",
    "    return ((end - start).days)"
   ]
  },
  {
   "cell_type": "code",
   "execution_count": 7,
   "metadata": {},
   "outputs": [],
   "source": [
    "# 평가일(계산일) ~ 각 쿠폰일의 날짜 차이에 따른 할인 금리 만들기\n",
    "discount_tenors = []\n",
    "discount_rates = []\n",
    "\n",
    "for date in settle_dates:\n",
    "    discount_tenors.append(get_year_diff_two_dates(val_date,date))\n"
   ]
  },
  {
   "cell_type": "code",
   "execution_count": 15,
   "metadata": {},
   "outputs": [
    {
     "name": "stdout",
     "output_type": "stream",
     "text": [
      "결제일 2021-11-16 ~ 평가일 2021-11-05 의 연 환산 값 : 0.0301369863\n",
      "결제일 2022-02-15 ~ 평가일 2021-11-05 의 연 환산 값 : 0.2794520548\n",
      "결제일 2022-05-16 ~ 평가일 2021-11-05 의 연 환산 값 : 0.5260273973\n",
      "결제일 2022-08-17 ~ 평가일 2021-11-05 의 연 환산 값 : 0.7808219178\n"
     ]
    }
   ],
   "source": [
    "for settle_date, tenor in zip(settle_dates, discount_tenors):\n",
    "    print(f\"결제일 {settle_date} ~ 평가일 {val_date} 의 연 환산 값 : {round(tenor, 10)}\")"
   ]
  },
  {
   "cell_type": "code",
   "execution_count": 12,
   "metadata": {},
   "outputs": [],
   "source": [
    "# 위에서 구한 discount_tenors 값에 따른 각각의 이자율 산출\n",
    "for tenor in discount_tenors:\n",
    "    discount_rates.append(get_ir_interpolation(target_tenors=spot_tenors, target_rates=spot_rates, selected_tenor=tenor))"
   ]
  },
  {
   "cell_type": "code",
   "execution_count": 17,
   "metadata": {},
   "outputs": [
    {
     "name": "stdout",
     "output_type": "stream",
     "text": [
      "tenor 0.030137 의 rate : 0.0080077\n",
      "tenor 0.2794521 의 rate : 0.0115281\n",
      "tenor 0.5260274 의 rate : 0.0134938\n",
      "tenor 0.7808219 의 rate : 0.0148838\n"
     ]
    }
   ],
   "source": [
    "for tenor, rate in zip(discount_tenors, discount_rates):\n",
    "    print(f\"tenor {round(tenor, 7)} 의 rate : {round(rate, 7)}\")"
   ]
  },
  {
   "cell_type": "markdown",
   "metadata": {},
   "source": [
    "* Discount Tenor 산출 공식 : Discount Factor $= exp(-rate * tenor)$\n"
   ]
  },
  {
   "cell_type": "code",
   "execution_count": 30,
   "metadata": {},
   "outputs": [],
   "source": [
    "# 엑셀 시트 ANS 탭의 DiscountFactor부분\n",
    "discount_factor = []\n",
    "for tenor, rate in zip(discount_tenors, discount_rates):\n",
    "    discount_factor.append(math.exp(- rate * tenor))"
   ]
  },
  {
   "cell_type": "code",
   "execution_count": 31,
   "metadata": {},
   "outputs": [
    {
     "name": "stdout",
     "output_type": "stream",
     "text": [
      "0 - th discount factor : 0.9997587022026649\n",
      "1 - th discount factor : 0.9967836327769407\n",
      "2 - th discount factor : 0.9929270021157247\n",
      "3 - th discount factor : 0.9884456768834075\n"
     ]
    }
   ],
   "source": [
    "for i, df in enumerate(discount_factor):\n",
    "    print(f\"{i} - th discount factor : {df}\")"
   ]
  },
  {
   "cell_type": "code",
   "execution_count": 132,
   "metadata": {},
   "outputs": [],
   "source": [
    "# forward rate 산출\n",
    "# 각각의 선도 이자율의 의미 : 평가일 시점에서 파악한 i번째 기산일 ~ i번째 기말일까지의 이자율"
   ]
  },
  {
   "cell_type": "code",
   "execution_count": 21,
   "metadata": {},
   "outputs": [],
   "source": [
    "coupon_list = []\n",
    "coupon_num = len(settle_dates)\n",
    "\n",
    "for i in range(coupon_num):\n",
    "    if get_year_diff_two_dates(val_date, settle_dates[i]) <= 0:    # 쿠폰지급일 <= 평가일 인 경우 쿠폰 0\n",
    "        coupon_list.append(0) \n",
    "    elif get_year_diff_two_dates(reset_dates[i], val_date) >= 0:   # 리셋일 <= 평가일 <= 쿠폰지급일 인 경우 이미 리셋일에 정해진 이자가 fixing_prices에 있기 때문에 그것을 그대로 가져옴\n",
    "        idx = fixing_dates.index(reset_dates[i])\n",
    "        coupon_list.append(fixing_prices[idx])\n",
    "    else:                                                             # 평가일 < 리셋일 인 경우 Forward Rate 를 산출\n",
    "        coupon_list.append((discount_factor[i-1] / discount_factor[i] - 1) \n",
    "            / (get_diff_two_dates(settle_dates[i-1], settle_dates[i]) / 365))\n"
   ]
  },
  {
   "cell_type": "code",
   "execution_count": 32,
   "metadata": {},
   "outputs": [
    {
     "name": "stdout",
     "output_type": "stream",
     "text": [
      "각 쿠폰일의 추정 금리\n",
      "0 - th forward rate : 0.0072\n",
      "1 - th forward rate : 0.011971475434708705\n",
      "2 - th forward rate : 0.015752195146766425\n",
      "3 - th forward rate : 0.017793589765074076\n"
     ]
    }
   ],
   "source": [
    "# 엑셀 시트 ANS 탭의 확정(추정)금리 부분\n",
    "# 각각의 금리는 연 환산이므로 실제로 지급하는 쿠폰은 \"기말일-기산일\" 로 나눠주어야 한다. \n",
    "print(\"각 쿠폰일의 추정 금리\")\n",
    "for i, fr in enumerate(coupon_list):\n",
    "    print(f\"{i} - th forward rate : {fr}\")    "
   ]
  },
  {
   "cell_type": "code",
   "execution_count": 23,
   "metadata": {},
   "outputs": [],
   "source": [
    "# 확정(추정)금리가 연이자율이기 때문에 기산일~기말일 사이로 바꿔주기 위해서 곱할 것들을 만들어줌\n",
    "begin_end_diff = []\n",
    "for begin, end in zip(begin_dates, end_dates):\n",
    "    begin_end_diff.append(get_year_diff_two_dates(begin, end))"
   ]
  },
  {
   "cell_type": "code",
   "execution_count": 25,
   "metadata": {},
   "outputs": [],
   "source": [
    "# 엑셀 시트 ANS 탭의 지급 쿠폰 부분\n",
    "pay_cpn = []\n",
    "for i in range(len(coupon_list)):\n",
    "    pay_cpn.append(0)\n",
    "\n",
    "for i, coupon in enumerate(coupon_list):\n",
    "    if coupon == 0:\n",
    "        pay_cpn[i] = 0\n",
    "    else:\n",
    "        pay_cpn[i] = (coupon + spread) * begin_end_diff[i]    # 연이율에서 기산일-기말일 로 바꿔줌\n"
   ]
  },
  {
   "cell_type": "code",
   "execution_count": 34,
   "metadata": {},
   "outputs": [
    {
     "name": "stdout",
     "output_type": "stream",
     "text": [
      "0 - th Pay Coupon rate : 0.0026547945205479453 at settle date 2021-11-16\n",
      "1 - th Pay Coupon rate : 0.003732614423447924 at settle date 2022-02-15\n",
      "2 - th Pay Coupon rate : 0.00462382894029857 at settle date 2022-05-16\n",
      "3 - th Pay Coupon rate : 0.00529809273466271 at settle date 2022-08-17\n"
     ]
    }
   ],
   "source": [
    "for i, act_cpn_rate in enumerate(pay_cpn):\n",
    "    print(f\"{i} - th Pay Coupon rate : {act_cpn_rate} at settle date {settle_dates[i]}\")"
   ]
  },
  {
   "cell_type": "code",
   "execution_count": 27,
   "metadata": {},
   "outputs": [],
   "source": [
    "result = 0\n",
    "for i in range(len(pay_cpn)):\n",
    "    if i < (len(pay_cpn) -1):\n",
    "        result += pay_cpn[i] * discount_factor[i]\n",
    "    else:\n",
    "        result += (1 + pay_cpn[i]) * discount_factor[i]"
   ]
  },
  {
   "cell_type": "code",
   "execution_count": 35,
   "metadata": {},
   "outputs": [
    {
     "name": "stdout",
     "output_type": "stream",
     "text": [
      "Given FRN Price is 1.0046484412399364\n"
     ]
    }
   ],
   "source": [
    "print(f\"Given FRN Price is {result}\")"
   ]
  },
  {
   "cell_type": "code",
   "execution_count": 37,
   "metadata": {},
   "outputs": [],
   "source": [
    "value_from_kiwoom_calculation = 1.00464844123994"
   ]
  },
  {
   "cell_type": "code",
   "execution_count": 38,
   "metadata": {},
   "outputs": [
    {
     "name": "stdout",
     "output_type": "stream",
     "text": [
      "같은 상품의 키움 계산기 값과 파이썬 값 차이 : -3.552713678800501e-15\n"
     ]
    }
   ],
   "source": [
    "print(f\"같은 상품의 키움 계산기 값과 파이썬 값 차이 : {result - value_from_kiwoom_calculation}\")"
   ]
  }
 ],
 "metadata": {
  "interpreter": {
   "hash": "089b7837b70d304ebefeba5e34b553631ce5a48099cc0b736fe1607e71dc78f8"
  },
  "kernelspec": {
   "display_name": "Python 3.7.11 64-bit ('quant_lab': conda)",
   "name": "python3"
  },
  "language_info": {
   "codemirror_mode": {
    "name": "ipython",
    "version": 3
   },
   "file_extension": ".py",
   "mimetype": "text/x-python",
   "name": "python",
   "nbconvert_exporter": "python",
   "pygments_lexer": "ipython3",
   "version": "3.7.11"
  },
  "orig_nbformat": 4
 },
 "nbformat": 4,
 "nbformat_minor": 2
}
