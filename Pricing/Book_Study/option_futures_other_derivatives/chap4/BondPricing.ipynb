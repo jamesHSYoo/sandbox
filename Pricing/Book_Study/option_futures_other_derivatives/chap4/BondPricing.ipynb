{
 "cells": [
  {
   "cell_type": "markdown",
   "source": [
    "# Chap 4.4 Bond Pricing"
   ],
   "metadata": {}
  },
  {
   "cell_type": "markdown",
   "source": [
    "## Bond Pricing\r\n",
    "* Suppose that a 2-Year Treasury bond with a principal of $100 provides coupons at the rate of 6% per annum semiannually.\r\n",
    "* We calculate these bond price."
   ],
   "metadata": {}
  },
  {
   "cell_type": "code",
   "execution_count": 23,
   "source": [
    "import math"
   ],
   "outputs": [],
   "metadata": {}
  },
  {
   "cell_type": "code",
   "execution_count": 43,
   "source": [
    "pricipal = 100\n",
    "bond_price = 0\n",
    "mat_tenors = [0.5, 1.0, 1.5, 2.0]\n",
    "zero_rates = [5.0, 5.8, 6.4, 6.8]  # zero rate(%)\n",
    "coupon_rate = 0.06  \n",
    "expiration = 2 # 2-Year Treasury Bond\n",
    "per = 0.5 # Semi-Annually"
   ],
   "outputs": [],
   "metadata": {}
  },
  {
   "cell_type": "code",
   "execution_count": 44,
   "source": [
    "for i, mat_tenor in enumerate(mat_tenors):\n",
    "    if mat_tenor == expiration:\n",
    "        bond_price += pricipal * (1 + coupon_rate * per) * math.exp( -1 * (zero_rates[i] * 0.01) * mat_tenor )\n",
    "    else:\n",
    "        bond_price += pricipal * (coupon_rate * per) * math.exp( -1 * (zero_rates[i] * 0.01) * mat_tenor )\n"
   ],
   "outputs": [],
   "metadata": {}
  },
  {
   "cell_type": "code",
   "execution_count": 45,
   "source": [
    "print(bond_price)"
   ],
   "outputs": [
    {
     "output_type": "stream",
     "name": "stdout",
     "text": [
      "98.3850627729396\n"
     ]
    }
   ],
   "metadata": {}
  },
  {
   "cell_type": "markdown",
   "source": [
    "## Bond Yield(채권수익률)\n",
    "* A Bond's yield is the single discount rate that, we applied to all cash flows, give a bond price equals to its market price.\n",
    "* Find $y$ satisfies the following equation.\n",
    "$$\n",
    "    3 \\exp(-y * 0.5) + 3 \\exp(-y * 1.0) + 3 \\exp(-y * 1.5) + 103 \\exp(-y * 2.0) = 98.3850627729396\n",
    "$$\n",
    "* We find $y$ using trial and error method.\n",
    " "
   ],
   "metadata": {}
  },
  {
   "cell_type": "code",
   "execution_count": 51,
   "source": [
    "max_trial = 10000\n",
    "err_term = 0.000001\n",
    "init_rate = 0.05\n",
    "term = 0.0001"
   ],
   "outputs": [],
   "metadata": {}
  },
  {
   "cell_type": "code",
   "execution_count": null,
   "source": [
    "def bond_formula(rate):\n",
    "    return 3 * math.exp(-1 * rate * 0.5) + 3 * math.exp(-1 * rate * 1.0) + 3 * math.exp(-1 * rate * 1.5)+ 103 * math.exp(-1 * rate * 2.0)"
   ],
   "outputs": [],
   "metadata": {}
  },
  {
   "cell_type": "code",
   "execution_count": 55,
   "source": [
    "for i in range(max_trial):\n",
    "    result = bond_formula(init_rate)\n",
    "    if math.fabs(result - bond_price) <= err_term:\n",
    "        break\n",
    "    else:\n",
    "        if result > bond_price:\n",
    "            init_rate += term\n",
    "        else:\n",
    "            init_rate -= term\n",
    "\n",
    "print(f'Given bond, Bond Yield is {round(init_rate * 100, 5)} %.')\n"
   ],
   "outputs": [
    {
     "output_type": "stream",
     "name": "stdout",
     "text": [
      "Given bond, Bond Yield is 6.76 %.\n"
     ]
    }
   ],
   "metadata": {}
  },
  {
   "cell_type": "markdown",
   "source": [
    "## Par Yield(액면가 수익률)\n",
    "* The par yield for a certain bond maturity is the coupon rate that causes the bond price to equal its par value.\n",
    "* Find $c$ satisfies the following equations.\n",
    "$$\n",
    "\\frac{c}{2} \\exp(-0.05 * 0.5) + \\frac{c}{2} \\exp(-0.058 * 1.0) + \\frac{c}{2} \\exp(-0.064 * 1.5) +( 100 + \\frac{c}{2}) \\exp(-0.068 * 2.0) = 100\n",
    "$$\n",
    "* We find $c$ using a straightforward way."
   ],
   "metadata": {}
  },
  {
   "cell_type": "code",
   "execution_count": 60,
   "source": [
    "par_yield = 2 * (100 - 100 * math.exp(-0.068 * 2)) / (math.exp(-0.05 * 0.5) + math.exp(-0.058 * 1.0) + math.exp(-0.064 * 1.5) + math.exp(-0.068 * 2.0))\n",
    "print(f'Par yield is {round(par_yield, 4)} %')"
   ],
   "outputs": [
    {
     "output_type": "stream",
     "name": "stdout",
     "text": [
      "Par yield is 6.8729 %\n"
     ]
    }
   ],
   "metadata": {}
  }
 ],
 "metadata": {
  "orig_nbformat": 4,
  "language_info": {
   "name": "python",
   "version": "3.7.11",
   "mimetype": "text/x-python",
   "codemirror_mode": {
    "name": "ipython",
    "version": 3
   },
   "pygments_lexer": "ipython3",
   "nbconvert_exporter": "python",
   "file_extension": ".py"
  },
  "kernelspec": {
   "name": "python3",
   "display_name": "Python 3.7.11 64-bit ('quant_lab': conda)"
  },
  "interpreter": {
   "hash": "c87db56435653a0c70f7ff02c30a211ce38a944c683a272f1bdce469aab1b099"
  }
 },
 "nbformat": 4,
 "nbformat_minor": 2
}