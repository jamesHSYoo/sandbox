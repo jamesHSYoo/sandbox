{
 "cells": [
  {
   "cell_type": "markdown",
   "source": [
    "## 4.5 Determining Treasury zero rates\n",
    "<img src=\"./bootstrap.jpeg\">\n",
    "\n",
    "    - Half the states coupon is assumed to be paid every 6 months. \n",
    "\n",
    "* Determining Treasury zero rates is known as the **bootstrap method**.\n",
    "* To illustrate the nature of the method, consider the data in Table 4.3\n",
    "* Beause of the first three bonds pay no coupons, the zero rates corresponding to the maturities of these bonds can easily be calculated"
   ],
   "metadata": {}
  },
  {
   "cell_type": "code",
   "execution_count": 9,
   "source": [
    "import math"
   ],
   "outputs": [],
   "metadata": {}
  },
  {
   "cell_type": "code",
   "execution_count": 13,
   "source": [
    "# 0.25 case\n",
    "pricipal = 100\n",
    "maturity = 0.25 \n",
    "bond_price = 97.5\n",
    "\n",
    "rate_q = math.log(pricipal / bond_price) / maturity\n",
    "\n",
    "print(f'3-month rate is {round(rate_q * 100, 3)} %.')\n"
   ],
   "outputs": [
    {
     "output_type": "stream",
     "name": "stdout",
     "text": [
      "3-month rate is 10.127 %.\n"
     ]
    }
   ],
   "metadata": {}
  },
  {
   "cell_type": "code",
   "execution_count": 14,
   "source": [
    "# 0.5 case\n",
    "pricipal = 100\n",
    "maturity = 0.5 \n",
    "bond_price = 94.9\n",
    "\n",
    "rate_half = math.log(pricipal / bond_price) / maturity\n",
    "\n",
    "print(f'6-month rate is {round(rate_half * 100, 3)} %.')"
   ],
   "outputs": [
    {
     "output_type": "stream",
     "name": "stdout",
     "text": [
      "6-month rate is 10.469 %.\n"
     ]
    }
   ],
   "metadata": {}
  },
  {
   "cell_type": "code",
   "execution_count": 24,
   "source": [
    "# 1.0 case\n",
    "pricipal = 100\n",
    "maturity = 1.0\n",
    "bond_price = 90.0\n",
    "\n",
    "rate_year = math.log(pricipal / bond_price) / maturity\n",
    "\n",
    "print(f'6-month zero rate is {round(rate_year * 100, 3)} %.')"
   ],
   "outputs": [
    {
     "output_type": "stream",
     "name": "stdout",
     "text": [
      "6-month zero rate is 10.536 %.\n"
     ]
    }
   ],
   "metadata": {}
  },
  {
   "cell_type": "code",
   "execution_count": 23,
   "source": [
    "# The fourth bond lasts 1.5 years. The payments are as follows:\n",
    "# 6 - month  : 4$\n",
    "# 1 - year   : 4$\n",
    "# 1.5 - year : 104$\n",
    "pricipal = 100\n",
    "bond_price = 96\n",
    "maturity = 1.5\n",
    "coupon = 8/2\n",
    "\n",
    "rate_one_half = - math.log((bond_price - coupon * math.exp(-rate_half * 0.5) - coupon * math.exp(-rate_year * 1.0)) / (pricipal + coupon) ) / maturity\n",
    "print(f'1.5 year zero rate is {round(rate_one_half * 100, 3)} %.')"
   ],
   "outputs": [
    {
     "output_type": "stream",
     "name": "stdout",
     "text": [
      "1.5 year zero rate is 10.681 %.\n"
     ]
    }
   ],
   "metadata": {}
  },
  {
   "cell_type": "code",
   "execution_count": 33,
   "source": [
    "# Zero_rates is a list of zero rate with respect to each maturity.\n",
    "zero_rates = [rate_half, rate_year, rate_one_half]\n",
    "maturities = [0.5, 1.0, 1.5]\n",
    "\n",
    "pricipal = 100\n",
    "bond_price = 101.6\n",
    "maturity = 2.0\n",
    "coupon = 12/2\n",
    "\n",
    "past_cpn = 0\n",
    "\n",
    "for rate, tenor in zip(zero_rates, maturities):\n",
    "    past_cpn += -1 * coupon * math.exp(-1* rate * tenor)\n",
    "\n",
    "rate_two_year = -1 * math.log((bond_price + past_cpn) / (pricipal + coupon)) / maturity\n",
    "print(f'2 year zero rate is {round(rate_two_year * 100, 3)} %.')"
   ],
   "outputs": [
    {
     "output_type": "stream",
     "name": "stdout",
     "text": [
      "2 year zero rate is 10.808 %.\n"
     ]
    }
   ],
   "metadata": {}
  }
 ],
 "metadata": {
  "orig_nbformat": 4,
  "language_info": {
   "name": "python",
   "version": "3.7.7",
   "mimetype": "text/x-python",
   "codemirror_mode": {
    "name": "ipython",
    "version": 3
   },
   "pygments_lexer": "ipython3",
   "nbconvert_exporter": "python",
   "file_extension": ".py"
  },
  "kernelspec": {
   "name": "python3",
   "display_name": "Python 3.7.7 64-bit ('quant_lab': pyenv)"
  },
  "interpreter": {
   "hash": "4877272967631b7471629e770b69a7d6bc2e342dcd6ead33bb5fa164b2cdf373"
  }
 },
 "nbformat": 4,
 "nbformat_minor": 2
}