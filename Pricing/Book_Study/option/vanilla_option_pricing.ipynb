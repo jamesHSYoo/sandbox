{
 "cells": [
  {
   "cell_type": "markdown",
   "source": [
    "# Vanilla Option Pricing Practice\n",
    "* 이 파일에서는 Black Scholes Model 을 이용하여 옵션 가격을 구하는 방법을 구현\n",
    "* 콜옵션을 기준으로 작성\n",
    "* 내재 변동성 산출 방법 까지 구현"
   ],
   "metadata": {}
  },
  {
   "cell_type": "code",
   "execution_count": 13,
   "source": [
    "# 사용 하는 파이썬 내부 모듈 선언\n",
    "import math\n",
    "import datetime"
   ],
   "outputs": [],
   "metadata": {}
  },
  {
   "cell_type": "code",
   "execution_count": 3,
   "source": [
    "\"\"\"\n",
    "함수 설명\n",
    " * 표준 정규 분포의 확률 계산 -> 엑셀에는 관련 함수가 있으므로 그것을 그대로 사용 하면됨\n",
    "\"\"\"\n",
    "def get_norm_prob(x):\n",
    "    a1 = 0.254829592\n",
    "    a2 = -0.284496736\n",
    "    a3 = 1.4214143741\n",
    "    a4 = -1.453152027\n",
    "    a5 = 1.061405429\n",
    "    p = 0.3275911\n",
    "\n",
    "    sign = 1\n",
    "    if x < 0: sign = -1\n",
    "\n",
    "    x = math.fabs(x) / math.sqrt(2.0)\n",
    "\n",
    "    t = 1.0 / (1.0 + p * x)\n",
    "    y = 1.0 - (((((a5 * t + a4) * t ) + a3) * t + a2) * t + a1) * t * math.exp(- x * x)\n",
    "    return 0.5*(1.0 + sign * y)"
   ],
   "outputs": [],
   "metadata": {}
  },
  {
   "cell_type": "code",
   "execution_count": 10,
   "source": [
    "\"\"\"\n",
    "함수 설명\n",
    " * Black-Scholes model 구현\n",
    "\n",
    "입력 변수\n",
    " * stock_price    : 기초 자산의 현재가격\n",
    " * strike_price   : 행사가격\n",
    " * interest_rate  : 무위험 이자율(잔존기간을 고려하여 금리 커프에서 가져옴)\n",
    " * vol            : 기초자산의 변동성\n",
    " * dividend       : 기초자산의 배당률\n",
    " * terminate_time : 옵션의 잔존기간(만기일 - 계산일의 연환산으로 여기서는 1년을 365로 사용)\n",
    " * option_type    : 옵션의 타입(1 : 콜옵션, 2 : 풋옵션)\n",
    "\"\"\"\n",
    "def get_option_price(stock_price, strike_price, interest_rate, vol, dividend, terminate_time, option_type):\n",
    "    d1 = ( math.log(stock_price / strike_price) + (interest_rate - dividend + (vol * vol) / 2) * terminate_time ) / (vol * math.sqrt(terminate_time))\n",
    "    d2 = d1 - vol * math.sqrt(terminate_time)\n",
    "        \n",
    "    if option_type == 1:  # Call\n",
    "        return math.exp(-dividend * terminate_time) * stock_price * get_norm_prob(d1) - math.exp(- interest_rate * terminate_time) * strike_price * get_norm_prob(d2)\n",
    "    else: # Put\n",
    "        return - math.exp(-dividend * terminate_time) * stock_price * get_norm_prob(-d1) + math.exp( - interest_rate * terminate_time) * strike_price * get_norm_prob(-d2)"
   ],
   "outputs": [],
   "metadata": {}
  },
  {
   "cell_type": "code",
   "execution_count": 12,
   "source": [
    "\"\"\"\n",
    "함수 설명\n",
    " * 잔존만기(terminate_time)에 따른 이자율을 구하는 방법으로 잔존만기가 정해진 tenor값과 동일하면 그에 해당하는 rate 값을 반환해준다.\n",
    " * 만약 정해진 두 tenor 사이에 있는 경우 보간법을 이용하여 rate를 산출 한다.(terminate_time 이 0.45인 경우 0.25와 0.5 사이에 있으므로 보간법을 이용하여 산출)\n",
    "\n",
    "입력 변수\n",
    " * discount_curve_tenor : 할인 금리 커브의 만기별 tenor 만 만들어 놓은 리스트\n",
    " * discount_curve_rate  : 할인 금리 커브의 이자율만 모아놓은 리스트로 위의 tenor 리스트의 같은 인덱스 끼리 매칭(예 : tenor가 0.25 일때 인덱스는 1이고 그 인덱스와 동일한 rate 는 0.009189)\n",
    "\"\"\"\n",
    "def get_ir_interpolation(discount_curve_tenor, discount_curve_rate, terminate_time):\n",
    "    if(len(discount_curve_tenor) == 1):\n",
    "        return discount_curve_rate[0]\n",
    "    if(discount_curve_tenor[-1] <= terminate_time):\n",
    "        return discount_curve_rate[:-1]\n",
    "\n",
    "    for i, tenor in enumerate(discount_curve_tenor):\n",
    "        if tenor == terminate_time:\n",
    "            return discount_curve_rate[i]\n",
    "        else:\n",
    "            if tenor > terminate_time:\n",
    "                return discount_curve_rate[i-1] + (terminate_time - discount_curve_tenor[i-1]) / (discount_curve_tenor[i] - discount_curve_tenor[i-1]) * (discount_curve_rate[i] - discount_curve_rate[i-1])"
   ],
   "outputs": [],
   "metadata": {}
  },
  {
   "cell_type": "code",
   "execution_count": 6,
   "source": [
    "\"\"\"\n",
    "함수 설명\n",
    " * 잔존만기를 연 환산 해주는 함수\n",
    " * exercise_date - valuation_date 를 연환산을 하기 위해 365로 나눠줌\n",
    " * 두 입력 변수가 문자열로 선언되어 있으므로 그것을 날짜로 만들어 주는 파이썬 내부 모듈 사용 -> 엑셀에서는 관련 함수가 있으므로 확인 후 사용\n",
    "\n",
    "입력 변수\n",
    " * valuation_date : 할인 금리 커브의 만기별 tenor 만 만들어 놓은 리스트\n",
    " * exercise_date  : 할인 금리 커브의 이자율만 모아놓은 리스트로 위의 tenor 리스트의 같은 인덱스 끼리 매칭(예 : tenor가 0.25 일때 인덱스는 1이고 그 인덱스와 동일한 rate 는 0.009189)\n",
    "\"\"\"\n",
    "def get_terminate_time(start_date, end_date):\n",
    "    start = datetime.datetime.strptime(start_date, \"%Y%m%d\")\n",
    "    end = datetime.datetime.strptime(end_date, \"%Y%m%d\")\n",
    "    return ((end - start).days) / 365"
   ],
   "outputs": [],
   "metadata": {}
  },
  {
   "cell_type": "code",
   "execution_count": 15,
   "source": [
    "# 발행정보\n",
    "valuation_date = '20210906'\n",
    "stock_price = 306000\n",
    "strike_price = 300000\n",
    "historical_vol = 0.28323\n",
    "implied_vol_from_kiwoom = 0.32977432030953\n",
    "dividend = 0.033\n",
    "exercise_date = '20211014'\n",
    "option_type = 1  # call = 1, put = 2\n",
    "\n",
    "mkt_option_price = 15600.0       # 20210906 당시 시장에서 실재 거래된 옵션의 가격\n",
    "\n",
    "# 할인금리 커브\n",
    "discount_curve_tenor = [0.00278, 0.25,0.5,0.75,1,1.25,1.5,1.75,2,2.25,2.5,2.75,3,3.25,3.5,3.75,4,4.25,4.5,4.75,5,5.25,5.5,5.75,6,6.25,6.5,6.75,7,7.25,7.5,7.75,8,8.25,8.5,8.75,9,9.25,9.5,9.75,10,12,15,20\n",
    "]\n",
    "discount_curve_rate = [0.0076,0.009189,0.01086,0.011712,0.012462,0.012963,0.013464,0.01384,0.014217,0.014418,0.014619,0.01482,0.015022,0.015167,0.015313,0.015457,0.015603,0.015718,0.015831,0.015946,0.016061,0.016115,0.016141,0.016178,0.016223,0.016264,0.016305,0.016346,0.016387,0.016426,0.016464,0.016502,0.01654,0.016579,0.016618,0.016657,0.016695,0.016732,0.01677,0.016809,0.016851,0.017113,0.016598,0.01611537\n",
    "]\n",
    "\n",
    "# 잔존 만기 및 그에 해당하는 이자율 산출\n",
    "terminate_time = get_terminate_time(valuation_date, exercise_date)\n",
    "interest_rate = get_ir_interpolation(discount_curve_tenor, discount_curve_rate, terminate_time)"
   ],
   "outputs": [],
   "metadata": {}
  },
  {
   "cell_type": "code",
   "execution_count": 19,
   "source": [
    "# 역사적 변동성을 이용한 옵션 가격 산출\n",
    "option_price = get_option_price(stock_price, strike_price, interest_rate, historical_vol, dividend, terminate_time, option_type)\n",
    "print(f'Option Price = {option_price}')"
   ],
   "outputs": [
    {
     "output_type": "stream",
     "name": "stdout",
     "text": [
      "Option Price = 13818.234900245268\n"
     ]
    }
   ],
   "metadata": {}
  },
  {
   "cell_type": "code",
   "execution_count": 20,
   "source": [
    "# 옵션의 Vega 산출\n",
    "def get_option_vega(vol, stock_price, strike_price, interest_rate, dividend, terminate_time):\n",
    "    d1 = (math.log(stock_price/strike_price) + (interest_rate - dividend + (vol * vol) / 2)*terminate_time) / (vol * math.sqrt(terminate_time))\n",
    "    return - math.exp(dividend * terminate_time) * stock_price * (1/math.sqrt(2* math.pi)) * math.exp(- d1 * d1 / 2) * math.sqrt(terminate_time)"
   ],
   "outputs": [],
   "metadata": {}
  },
  {
   "cell_type": "code",
   "execution_count": 21,
   "source": [
    "# 내재변동성 산출 시 시행착오방법을 이용하는데 중간에 사용하는 함수(로직 이해 필요 X)\n",
    "def compare_mktprice_pricefbs(mkt_option_price, option_price_bs):\n",
    "    return mkt_option_price - option_price_bs"
   ],
   "outputs": [],
   "metadata": {}
  },
  {
   "cell_type": "code",
   "execution_count": 23,
   "source": [
    "# implied vol 산출 로직\n",
    "\n",
    "error_term = 0.00001     # 오차 범위\n",
    "n_trial = 1000           # 시행 횟수\n",
    "x0 = historical_vol\n",
    "\n",
    "dx = 0\n",
    "x1 = 0\n",
    "\n",
    "implied_vol = 0.0\n",
    "\n",
    "# 시행착오 로직\n",
    "for i in range(n_trial):\n",
    "    dx = get_option_vega(x0, stock_price, strike_price, interest_rate, dividend, terminate_time)\n",
    "    tmp_option_price = get_option_price(stock_price, strike_price, interest_rate, x0, dividend, terminate_time, 1)\n",
    "    x1 = x0 - (compare_mktprice_pricefbs(mkt_option_price, tmp_option_price) / dx)\n",
    "\n",
    "    if x1 < 0:\n",
    "        x1 = 0.0001\n",
    "    elif x1 > 2:\n",
    "        x1 = 2\n",
    "    \n",
    "    if math.fabs(x1 - x0) < error_term:\n",
    "        if x1 == x0 and x1 == 2:\n",
    "            implied_vol = 0.0001\n",
    "        else:\n",
    "            implied_vol = x1\n",
    "        break\n",
    "    x0 = x1\n",
    "\n",
    "print(f\"산출 된 내재 변동성 : {implied_vol}\")\n",
    "print(f'산출 된 내재 변동성으로 산출 한 옵션 가격 : {get_option_price(stock_price, strike_price, interest_rate, implied_vol, dividend, terminate_time, 1 )}')\n",
    "print(\"시장에서 관찰 된 옵션 가격과 내재변동성으로 산출 된 가격이 거의 동일하게 산출 된것을 확인 할 수 있음\")"
   ],
   "outputs": [
    {
     "output_type": "stream",
     "name": "stdout",
     "text": [
      "산출 된 내재 변동성 : 0.329774153403158\n",
      "산출 된 내재 변동성으로 산출 한 옵션 가격 : 15599.999620566203\n",
      "시장에서 관찰 된 옵션 가격과 내재변동성으로 산출 된 가격이 거의 동일하게 산출 된것을 확인 할 수 있음\n"
     ]
    }
   ],
   "metadata": {}
  }
 ],
 "metadata": {
  "orig_nbformat": 4,
  "language_info": {
   "name": "python",
   "version": "3.7.7",
   "mimetype": "text/x-python",
   "codemirror_mode": {
    "name": "ipython",
    "version": 3
   },
   "pygments_lexer": "ipython3",
   "nbconvert_exporter": "python",
   "file_extension": ".py"
  },
  "kernelspec": {
   "name": "python3",
   "display_name": "Python 3.7.7 64-bit ('quant_lab': pyenv)"
  },
  "interpreter": {
   "hash": "4877272967631b7471629e770b69a7d6bc2e342dcd6ead33bb5fa164b2cdf373"
  }
 },
 "nbformat": 4,
 "nbformat_minor": 2
}