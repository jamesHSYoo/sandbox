{
 "cells": [
  {
   "cell_type": "code",
   "execution_count": 16,
   "metadata": {},
   "outputs": [],
   "source": [
    "from datetime import datetime\n",
    "from decimal import *\n",
    "\n",
    "import numpy as np\n",
    "\n",
    "\n",
    "def operation_linear_interpolation(a1, a2, b1, b2, target_x):\n",
    "    return a2 + ( (target_x - a1) / (b1 - a1) ) * (b2 - a2)"
   ]
  },
  {
   "cell_type": "code",
   "execution_count": 2,
   "metadata": {},
   "outputs": [],
   "source": [
    "fx_forward_tenors = (0.00278, 0.01944, 0.08333, 0.16667, 0.25, 0.5, 1, 2, 3, 4, 5)\n",
    "fx_forward_prices = (1430.2, 1430.05, 1429.4 , 1427.85, 1424.2, 1417.1, 1404.9, 1400.82195, 1396.7439, 1399.1707, 1405.73725)"
   ]
  },
  {
   "cell_type": "code",
   "execution_count": 3,
   "metadata": {},
   "outputs": [],
   "source": [
    "irs_usd_tenors = (0.00278, 0.25, 0.5, 0.75, 1, 2, 3, 4, 5, 7, 10 )\n",
    "irs_usd_rates = (0.03061, 0.0374286, 0.0435474532, 0.045291482, 0.0461640545, 0.0443193095, 0.0421775765, 0.0407285413, 0.0397466738, 0.0384296605, 0.0372892504 )"
   ]
  },
  {
   "cell_type": "code",
   "execution_count": 7,
   "metadata": {},
   "outputs": [],
   "source": [
    "valuation_date = '20220930'\n",
    "far_mat_date = '20221221'"
   ]
  },
  {
   "cell_type": "code",
   "execution_count": 8,
   "metadata": {},
   "outputs": [
    {
     "name": "stdout",
     "output_type": "stream",
     "text": [
      "82\n"
     ]
    }
   ],
   "source": [
    "residual_days = (datetime.strptime(far_mat_date, \"%Y%m%d\") - datetime.strptime(valuation_date, \"%Y%m%d\")).days\n",
    "print(residual_days)"
   ]
  },
  {
   "cell_type": "code",
   "execution_count": 14,
   "metadata": {},
   "outputs": [
    {
     "name": "stdout",
     "output_type": "stream",
     "text": [
      "0.2246575342465753424657534247\n",
      "<class 'decimal.Decimal'>\n"
     ]
    }
   ],
   "source": [
    "residual_year =  Decimal(residual_days) / Decimal(365)\n",
    "print(residual_year)\n",
    "print(type(residual_year))"
   ]
  },
  {
   "cell_type": "code",
   "execution_count": null,
   "metadata": {},
   "outputs": [],
   "source": [
    "target_rate = Decimal(0)\n",
    "\n",
    "for i, tenor in enumerate(fx_forward_tenors):\n",
    "    if residual_year < Decimal(tenor):\n",
    "        target_rate = Decimal(fx_forward_prices[0])\n",
    "    else:\n",
    "        if i == fx_forward_tenors.count - 1 :\n",
    "            target_rate = Decimal(fx_forward_prices[i])\n",
    "        else:\n",
    "            print()"
   ]
  }
 ],
 "metadata": {
  "kernelspec": {
   "display_name": "Python 3.7.11 ('quant_lab')",
   "language": "python",
   "name": "python3"
  },
  "language_info": {
   "codemirror_mode": {
    "name": "ipython",
    "version": 3
   },
   "file_extension": ".py",
   "mimetype": "text/x-python",
   "name": "python",
   "nbconvert_exporter": "python",
   "pygments_lexer": "ipython3",
   "version": "3.7.11"
  },
  "orig_nbformat": 4,
  "vscode": {
   "interpreter": {
    "hash": "c540e98577778cde511f63c8df1a56f37bd37ecee6f323ddb96ca1e630977f7b"
   }
  }
 },
 "nbformat": 4,
 "nbformat_minor": 2
}
