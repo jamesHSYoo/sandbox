{
 "cells": [
  {
   "cell_type": "code",
   "execution_count": 1,
   "id": "1c4264f0",
   "metadata": {},
   "outputs": [],
   "source": [
    "import datetime"
   ]
  },
  {
   "cell_type": "code",
   "execution_count": 3,
   "id": "f4068b7c",
   "metadata": {},
   "outputs": [
    {
     "name": "stdout",
     "output_type": "stream",
     "text": [
      "<class 'int'>\n"
     ]
    }
   ],
   "source": [
    "date = datetime.datetime.strptime('20250103', '%Y%m%d')\n",
    "print(type(date.year))"
   ]
  },
  {
   "cell_type": "code",
   "execution_count": null,
   "id": "0e8fedb4",
   "metadata": {},
   "outputs": [],
   "source": [
    "start_date = '20190527'\n",
    "end_date = '20190827'\n",
    "\n",
    "\"\"\" 1 : ACT/ACT , 2 : ACT/360 , 3 : ACT/365,\n",
    "    4 : 30/ACT, 5 : 30/360, 6 : 30/365, \n",
    "    7 : NL/ACT, 8 : NL/360, 9 : NL/365, \n",
    "    10 : E30/ACT, 11 : E30/360, 12 : E30/365 \n",
    "\"\"\""
   ]
  },
  {
   "cell_type": "code",
   "execution_count": null,
   "id": "bf0a24e4",
   "metadata": {},
   "outputs": [],
   "source": [
    "def is_leap_year(date : datetime):\n",
    "    year=date.year\n",
    "    flag = False\n",
    "    if year % 4 == 0:\n",
    "        if year % 100 == 0:         # 100으로 나누어떨어지는지 확인\n",
    "            if year % 400 == 0:     # 400으로 나누어떨어지는지 확인\n",
    "                flag = True    # 4, 100, 400으로 나누어떨어지면 윤년\n",
    "        else:\n",
    "            flag = True\n",
    "    if flag:\n",
    "        return 1\n",
    "    else:\n",
    "        return 0\n"
   ]
  },
  {
   "cell_type": "code",
   "execution_count": null,
   "id": "99aacdde",
   "metadata": {},
   "outputs": [],
   "source": [
    "start_leap_flag = is_leap_year(start_date)\n",
    "end_leap_flag = is_leap_year(end_date)\n",
    "lea_flag = 0\n"
   ]
  },
  {
   "cell_type": "code",
   "execution_count": null,
   "id": "5cec4633",
   "metadata": {},
   "outputs": [],
   "source": []
  }
 ],
 "metadata": {
  "kernelspec": {
   "display_name": "quant_study2",
   "language": "python",
   "name": "python3"
  },
  "language_info": {
   "codemirror_mode": {
    "name": "ipython",
    "version": 3
   },
   "file_extension": ".py",
   "mimetype": "text/x-python",
   "name": "python",
   "nbconvert_exporter": "python",
   "pygments_lexer": "ipython3",
   "version": "3.11.0"
  }
 },
 "nbformat": 4,
 "nbformat_minor": 5
}
