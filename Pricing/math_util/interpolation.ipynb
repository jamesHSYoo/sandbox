{
 "cells": [
  {
   "cell_type": "markdown",
   "metadata": {},
   "source": [
    "1. Linear interpolation"
   ]
  },
  {
   "cell_type": "code",
   "execution_count": 9,
   "metadata": {},
   "outputs": [],
   "source": [
    "import math\n",
    "import numpy as np"
   ]
  },
  {
   "cell_type": "code",
   "execution_count": 1,
   "metadata": {},
   "outputs": [],
   "source": [
    "def operation_linear_interpolation(a, b, target_x):\n",
    "    return a[1] + ( (target_x - a[0]) / (b[0] - a[0]) ) * (b[1] - a[1])  "
   ]
  },
  {
   "cell_type": "code",
   "execution_count": 2,
   "metadata": {},
   "outputs": [
    {
     "name": "stdout",
     "output_type": "stream",
     "text": [
      "2.5\n"
     ]
    }
   ],
   "source": [
    "a = (1, 1)\n",
    "b = (3, 3)\n",
    "target_x = 2.5\n",
    "print(operation_linear_interpolation(a, b, target_x))"
   ]
  },
  {
   "cell_type": "code",
   "execution_count": 20,
   "metadata": {},
   "outputs": [
    {
     "name": "stdout",
     "output_type": "stream",
     "text": [
      "1425.3100444125764\n"
     ]
    }
   ],
   "source": [
    "# forward \n",
    "a = (0.16667, 1427.85)\n",
    "b = (0.25, 1424.2)\n",
    "target_x = 0.224657534   # 잔존만기\n",
    "\n",
    "forward = operation_linear_interpolation(a, b, target_x)\n",
    "print(forward)"
   ]
  },
  {
   "cell_type": "code",
   "execution_count": 21,
   "metadata": {},
   "outputs": [
    {
     "name": "stdout",
     "output_type": "stream",
     "text": [
      "0.036729626864057924\n"
     ]
    }
   ],
   "source": [
    "#IRSUSD\n",
    "a = (0.00278, 0.03061)\n",
    "b = (0.25, 0.0374286)\n",
    "target_x = 0.224657534\n",
    "\n",
    "y = operation_linear_interpolation(a, b, target_x)\n",
    "print(y)"
   ]
  },
  {
   "cell_type": "code",
   "execution_count": 25,
   "metadata": {},
   "outputs": [
    {
     "name": "stdout",
     "output_type": "stream",
     "text": [
      "-301770310.8880348\n"
     ]
    }
   ],
   "source": [
    "rcvAmount = 9675400000   #KRW\n",
    "payAmount = 7000000      #USD\n",
    "\n",
    "future_price = rcvAmount - payAmount * forward\n",
    "print(future_price)"
   ]
  },
  {
   "cell_type": "code",
   "execution_count": 26,
   "metadata": {},
   "outputs": [
    {
     "name": "stdout",
     "output_type": "stream",
     "text": [
      "0.99178236350414\n"
     ]
    }
   ],
   "source": [
    "df = np.exp(-target_x * y)\n",
    "print(df)"
   ]
  },
  {
   "cell_type": "code",
   "execution_count": 27,
   "metadata": {},
   "outputs": [
    {
     "name": "stdout",
     "output_type": "stream",
     "text": [
      "-299290472.1679143\n"
     ]
    }
   ],
   "source": [
    "print(future_price * df)"
   ]
  },
  {
   "cell_type": "code",
   "execution_count": 28,
   "metadata": {},
   "outputs": [
    {
     "name": "stdout",
     "output_type": "stream",
     "text": [
      "6788277.426324877\n"
     ]
    }
   ],
   "source": [
    "krwtousd = rcvAmount / forward\n",
    "print(krwtousd)"
   ]
  },
  {
   "cell_type": "code",
   "execution_count": 29,
   "metadata": {},
   "outputs": [
    {
     "data": {
      "text/plain": [
       "-211722.57367512304"
      ]
     },
     "execution_count": 29,
     "metadata": {},
     "output_type": "execute_result"
    }
   ],
   "source": [
    "krwtousd - payAmount"
   ]
  },
  {
   "cell_type": "code",
   "execution_count": 30,
   "metadata": {},
   "outputs": [
    {
     "data": {
      "text/plain": [
       "-209982.71452669293"
      ]
     },
     "execution_count": 30,
     "metadata": {},
     "output_type": "execute_result"
    }
   ],
   "source": [
    "(krwtousd - payAmount) * df"
   ]
  },
  {
   "cell_type": "markdown",
   "metadata": {},
   "source": [
    "2. Bilinear Interpolation"
   ]
  },
  {
   "cell_type": "code",
   "execution_count": 1,
   "metadata": {},
   "outputs": [],
   "source": [
    "def operation_bilinear_interpolation(a, b, c, d, point):\n",
    "    \n",
    "    # fix y-axis\n",
    "\n",
    "    d1 = point[0] - a[0]\n",
    "    d2 = b[0] - point[0]\n",
    "\n",
    "    # Find z_p1 at P(1, 0)\n",
    "    z_p1 = b[2] * (point[0]- a[0]) / (b[0] - a[0]) + a[2] * (b[0] - point[0]) / (b[0] - a[0])\n",
    "    \n",
    "    P = (point[0], a[1], z_p1)\n",
    "    z_p2 = d[2] * (point[0]- c[0]) / (d[0] - c[0]) + c[2] * (d[0] - point[0]) / (d[0] - c[0])\n",
    "    Q = (point[0], c[1], z_p2)\n",
    "\n",
    "    # Find point(1, 1, z) between P and Q using Linear interpolation with respect to y-axis\n",
    "\n",
    "    d3 = point[1] - P[1]\n",
    "    d4 = Q[1] - point[1]\n",
    "\n",
    "    z = Q[2] * (point[1] - P[1]) / (Q[1] - P[1]) + P[2] * (Q[1] - point[1]) / (Q[1] - P[1]) \n",
    "\n",
    "    return z"
   ]
  },
  {
   "cell_type": "code",
   "execution_count": 2,
   "metadata": {},
   "outputs": [
    {
     "name": "stdout",
     "output_type": "stream",
     "text": [
      "1.0\n",
      "10.222222222222221\n"
     ]
    }
   ],
   "source": [
    "a = (0, 0, 1) # x0, y0, z0\n",
    "b = (2, 0, 1) # x1, y0, z1\n",
    "c = (0, 2, 1) # x0, y1, z2\n",
    "d = (2, 2, 1) # x1, y1, z3\n",
    "# Find z value at following point (1, 1)\n",
    "point = (1, 1) \n",
    "z = operation_bilinear_interpolation(a, b, c, d, point)\n",
    "print(z)\n",
    "\n",
    "\n",
    "## TEST https://m.blog.naver.com/aorigin/220947541918\n",
    "\n",
    "a = (3.0, 3.0, 6.0) # x0, y0, z0\n",
    "b = (6.0, 3.0, 10.0) # x1, y0, z1\n",
    "c = (3.0, 6.0, 9.0) # x0, y1, z2\n",
    "d = (6.0, 6.0, 12.0) # x1, y1, z3\n",
    "# Find z value at following point (1, 1)\n",
    "point = (5, 5) \n",
    "z = operation_bilinear_interpolation(a, b, c, d, point)\n",
    "print(z)"
   ]
  }
 ],
 "metadata": {
  "kernelspec": {
   "display_name": "quant_study2",
   "language": "python",
   "name": "python3"
  },
  "language_info": {
   "codemirror_mode": {
    "name": "ipython",
    "version": 3
   },
   "file_extension": ".py",
   "mimetype": "text/x-python",
   "name": "python",
   "nbconvert_exporter": "python",
   "pygments_lexer": "ipython3",
   "version": "3.11.0"
  },
  "orig_nbformat": 4
 },
 "nbformat": 4,
 "nbformat_minor": 2
}
